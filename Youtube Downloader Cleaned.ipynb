{
 "cells": [
  {
   "cell_type": "code",
   "execution_count": 1,
   "id": "0e982e06-2404-4d15-901b-89c2ab71c24f",
   "metadata": {},
   "outputs": [],
   "source": [
    "import youtube_dl\n",
    "import os\n",
    "from pprint import pprint\n",
    "from pathlib import Path\n",
    "import pandas as pd\n",
    "import subprocess\n",
    "import sys\n",
    "import openpyxl\n",
    "from moviepy.video.io.ffmpeg_tools import ffmpeg_extract_subclip\n",
    "from moviepy.video.io.VideoFileClip import VideoFileClip\n",
    "import shutil\n",
    "import re\n",
    "from tqdm import tqdm\n",
    "from moviepy.editor import *\n",
    "from converter import Converter\n",
    "import glob\n",
    "import cv2\n",
    "import ffmpeg"
   ]
  },
  {
   "cell_type": "code",
   "execution_count": 2,
   "id": "34678c51-30f4-4922-bc3f-ddd82659ff22",
   "metadata": {},
   "outputs": [
    {
     "name": "stdout",
     "output_type": "stream",
     "text": [
      "0        --PJHxphWEs\n",
      "1        --ZhevVpy1s\n",
      "2        --aE2O5G5WE\n",
      "3        --aO5cdqSAg\n",
      "4        --aaILOrkII\n",
      "            ...     \n",
      "22155    zyqg4pYEioQ\n",
      "22156    zz0ddNfz0h0\n",
      "22157    zz8TGV83nkE\n",
      "22158    zzlK8KDqlr0\n",
      "22159    zzya4dDVRLk\n",
      "Name: # YTID, Length: 22160, dtype: object\n",
      "youtube-dl -f bestvideo[ext=mp4]+bestaudio[ext=m4a]/best https://www.youtube.com/watch?v=\n"
     ]
    }
   ],
   "source": [
    "#Reads balanced_train_segments_propertext.xlsx as a dataframe\n",
    "df = pd.read_excel ('C:\\\\Users\\\\DSPLAB\\\\Desktop\\\\Alroy Data\\\\Youtube-dl proj\\\\balanced_train_segments_propertext.xlsx',header=3) #takes the 3rd row as the header column\n",
    "#header number is the row number to be considered as header\n",
    "selection=df['# YTID']\n",
    "print (selection)\n",
    "ytlink= \"youtube-dl -f bestvideo[ext=mp4]+bestaudio[ext=m4a]/best https://www.youtube.com/watch?v=\"\n",
    "print(ytlink)"
   ]
  },
  {
   "cell_type": "code",
   "execution_count": null,
   "id": "961b44be",
   "metadata": {},
   "outputs": [],
   "source": [
    "#TO DOWNLOAD!! clips from YTID \n",
    "os.chdir(r'D:\\Alroy youtube proj')\n",
    "for i in selection[6431:]: #fill in [:]. Continue off from the last video you downloaded, the index of the next video to download onwards\n",
    "    biglink=ytlink+i #decided to download all future files in .mp4 format to prevent slicing errors\n",
    "    print(biglink, 'is downloading rn') #prints the file that is in the process of being downloaded\n",
    "    os.system(biglink+\" >> YTcommand_prompt.txt\") #it adds on text to existing .txt file, important to see the last video downloaded"
   ]
  },
  {
   "cell_type": "code",
   "execution_count": null,
   "id": "f618082b-6573-47f0-a8d7-a011d2a48620",
   "metadata": {},
   "outputs": [],
   "source": [
    "#worms, a new list of YTIDs of the files that are successfully downloaded, not linked to CMD file\n",
    "new_list=os.listdir(r'D:\\Alroy youtube proj')\n",
    "new_list.remove('Snippets')\n",
    "new_list.remove('YTcommand_prompt.txt')\n",
    "print(len(new_list))\n",
    "worms=[]\n",
    "for flies in new_list:\n",
    "    maggot=flies.rsplit('.', 2)\n",
    "    \n",
    "    if maggot[-2].startswith('f') and len(maggot[-2])==4:\n",
    "        pupa=maggot[-3][-11:]\n",
    "    else:\n",
    "        pupa=maggot[-2][-11:]\n",
    "        \n",
    "    worms.append(pupa)\n",
    "print(len(worms))"
   ]
  },
  {
   "cell_type": "code",
   "execution_count": null,
   "id": "9fb00545-5fb6-4838-a95d-d76674eb2d72",
   "metadata": {},
   "outputs": [],
   "source": [
    "#reading the main balanced_segments excel file as dataframe\n",
    "startend = pd.read_excel (r'C:\\Users\\DSPLAB\\Desktop\\Alroy Data\\Youtube-dl proj\\balanced_train_segments_propertext.xlsx',header=3) #takes the 3rd row as the header column\n",
    "startend[['# YTID', ' start_seconds', ' end_seconds']]"
   ]
  },
  {
   "cell_type": "code",
   "execution_count": null,
   "id": "c7b09ce6-0ab2-4fdd-b4f9-063d0877d193",
   "metadata": {},
   "outputs": [],
   "source": [
    "#df_reduced is the filtered 'startend' dataframe as it consist only of the videos that are sucessfully downloaded, to get start and end timings\n",
    "df_reduced = startend[startend['# YTID'].str.contains('|'.join(worms))] #something wrong with this matching code\n",
    "print(df_reduced[['# YTID', ' start_seconds', ' end_seconds']])\n",
    "print(len(df_reduced)) #to see the number of rows in the reduced dataframe matches the length of the list in worms"
   ]
  },
  {
   "cell_type": "code",
   "execution_count": null,
   "id": "d32c3e9a-6a94-4034-8f59-75a5050f26f1",
   "metadata": {},
   "outputs": [],
   "source": [
    "#Returns a SET of files between Snippets and Main download folder that has NOT been sliced, it worked!\n",
    "#Using find function\n",
    "longname=os.listdir(r\"D:\\Alroy youtube proj\") #List of long names\n",
    "longname.remove(\"Snippets\")\n",
    "longname.remove(\"YTcommand_prompt.txt\")\n",
    "hj=os.listdir(r\"D:\\Alroy youtube proj\\Snippets\")\n",
    "shortname=[] #Compare list of short names\n",
    "for i in hj:\n",
    "    yu=i.rsplit('.',1)\n",
    "    shortname.append(yu[-2])\n",
    "print(\"no. of shortnames:\", len(shortname))\n",
    "#print(shortname) #no duplicates, i checked\n",
    "    \n",
    "actuallySliced=[]\n",
    "for g_g in longname: #longname\n",
    "    for h_h in shortname:  #shortname, keyword\n",
    "        idx=g_g.find(h_h) #returns the index of where the keyword is found in the string\n",
    "        if idx!= -1: #only can put != -1, if not each iteration it tried to macth will append to the list\n",
    "            actuallySliced.append(g_g)\n",
    "print(\"no. of actuallySliced:\", len(actuallySliced)) #number of actually sliced should be = no. of shortnames\n",
    "#print(actuallySliced)\n",
    "\n",
    "#Comparing both lists: actuallySliced and longname. Finding the contrasting differences = unsliced videos, both lists must be IDENTICAL to one another, only finds the exact difference\n",
    "longset=set(longname)\n",
    "shortset=set(actuallySliced)\n",
    "unslicedset=shortset.symmetric_difference(longset)\n",
    "# print(unslicedset)\n",
    "print(\"no. of unsliced file:\", len(unslicedset)) #always check: take this number + number of snippets i have = total number of files in downloaded folder\n",
    "#idk why but actuallySlicedfile should be = shortnames. I havent detective yet\n",
    "#if file name has special characters (emojis) in the beginning, file cannot be read, fps==0, zero division error, need convert set into list."
   ]
  },
  {
   "cell_type": "code",
   "execution_count": null,
   "id": "f141fc04-83b1-4abd-b093-8d9ac01ef614",
   "metadata": {
    "scrolled": true,
    "tags": []
   },
   "outputs": [],
   "source": [
    "#test can also use this code to find those files that hasnt been sliced\n",
    "#why cant the short names EXACTLY match with the long names. there are some shortnames names that are lef tout, have no partner\n",
    "didntMatch=[] #finding the long names why some (shortnames) YTIDs cannot be .find() in the longnames\n",
    "for it1 in longname: #longname\n",
    "    count=0\n",
    "    for it2 in shortname: #shortname\n",
    "        idx=it1.find(it2)\n",
    "        if idx== -1: #only can put != -1, if not each iteration it tried to macth will append to the list\n",
    "            count+=1\n",
    "        if count==len(shortname):\n",
    "            print(count)\n",
    "            didntMatch.append(it1)"
   ]
  },
  {
   "cell_type": "markdown",
   "id": "570c1fdf",
   "metadata": {},
   "source": [
    "## Functions"
   ]
  },
  {
   "cell_type": "code",
   "execution_count": null,
   "id": "32ccae83-c442-44c2-8726-3eb328f38991",
   "metadata": {},
   "outputs": [],
   "source": [
    "#match each ID under # YTID column to each file name in downloaded file, returns a name\n",
    "def findIdx(h): #depends on previously called df_reduced variable\n",
    "    for a in df_reduced['# YTID']:\n",
    "        idx=h.find(a) #inside bracket keyword, name returns an index\n",
    "        if idx!= -1:\n",
    "            name=h[idx:idx+11]\n",
    "            return name\n",
    "\n",
    "#returns a proper file extension format if the file ends with '.part', no need to use this anymore, now all .mp4\n",
    "def ifPath(h): ##Getting the extension the video files for the slicing function, ext=ifPath(h)\n",
    "    ext=h.split('.')\n",
    "    if ext[-1]=='part':\n",
    "        extention='.'+ ext[-2]\n",
    "        return extention\n",
    "    else:\n",
    "        extention='.'+ ext[-1]\n",
    "        return extention\n",
    "\n",
    "#to convert mkv to mp4, dont use the subprocess function, use 'module'\n",
    "class FFMConverter:\n",
    "    def convert_mkv_mp4_subprocess(self, input_file, output_file):\n",
    "        try: #ffmpeg -i test.mkv test.mp4\n",
    "            command='ffmpeg -i' + input_file+' '+output_file\n",
    "            subprocess.run(command)\n",
    "            print(\"successully converted\")\n",
    "        except:\n",
    "            print(\"Video failed to convert mkv to mp4\")\n",
    "            \n",
    "    def convert_mkv_mp4_module(self, input_file, output_file):\n",
    "        try:\n",
    "            stream=ffmpeg.input(input_file)\n",
    "            stream=ffmpeg.output(stream, output_file)\n",
    "            ffmpeg.run(stream)\n",
    "            print(\"successfully converted\")\n",
    "        except:\n",
    "            print()\n",
    "            \n",
    "ffm=FFMConverter()\n",
    "#ffm.convert_mkv_mp4_module('C:\\\\Users\\\\DSPLAB\\\\Desktop\\\\Shuffle vs hp hop--BxQ9nkrId4.mkv', \"C:\\\\Users\\\\DSPLAB\\\\Desktop\\\\newcat\"+\".mp4\") <--- very impt dont delete\n",
    "\n",
    "#condition to convert MKV/webm file if detected, no need alr, all files are .mp4\n",
    "def convertMKV(h,direct1,direct2): #direct1=\"C:\\\\Users\\\\DSPLAB\\\\Desktop\\\\tets2\\\\\", locate the file itself    #direct2=\"\"C:\\\\Users\\\\DSPLAB\\\\Desktop\\\\\", end path   #h is the filename not filepath\n",
    "    if h.endswith(\".webm\"):\n",
    "        bare=h.removesuffix('.webm')  \n",
    "        clipped=ffm.convert_mkv_mp4_module(direct1+h, direct2+bare+\".mp4\") #dont fking direct the converted file back to the same folder as the mkv file\n",
    "        return clipped #returns the file\n",
    "\n",
    "#creating another condition to remove '-' or '--' in front of filenames\n",
    "def destroydash(eachfile):\n",
    "    if eachfile[0]=='-':\n",
    "        eachfile=eachfile.replace('-','')\n",
    "    return eachfile\n",
    "\n",
    "#Excel timings exceed video duration\n",
    "def exceedTime(filename,end):\n",
    "    try: \n",
    "        directory=\"D:\\\\Alroy youtube proj\\\\\"   #\"D:\\\\Alroy youtube proj\\\\\"\n",
    "        cap=cv2.VideoCapture(directory+filename)\n",
    "        fps = cap.get(cv2.CAP_PROP_FPS)\n",
    "        print(\"fps is:\", fps)\n",
    "        length = int(cap.get(cv2.CAP_PROP_FRAME_COUNT))\n",
    "        time=length/fps\n",
    "        print(\"time is:\", time)\n",
    "        if end>time: #comparing end_clip time and max duration of video\n",
    "            end=time\n",
    "            print(\"new end time assigned, clip was in fact shorter than clip-endtime \")\n",
    "        else: \n",
    "            print(\"clip-endtime is within clip duration\")\n",
    "    except:\n",
    "        oof= open(filename+\".txt\",\"w+\") #to keep track of the problematic filename\n",
    "        oof.write(\"fps can't be read for some reason, time=length/fps, zero division error\")\n",
    "        oof.close()\n",
    "    return end\n",
    "\n",
    "#The Slicing function w/ OSERROR exception, moviepy error exception, create a txt file with its YTID in its place\n",
    "def slicingCodeOS(filepath, start, end, endpath, newname):\n",
    "    try:    \n",
    "        video = VideoFileClip(filepath).subclip(t_start = start,t_end = end)\n",
    "        video.write_videofile(endpath, logger=None)\n",
    "        video.close() #need close\n",
    "    except OSError:\n",
    "        oof= open(newname+\".txt\",\"w+\")\n",
    "        oof.close()"
   ]
  },
  {
   "cell_type": "markdown",
   "id": "7526e399-576c-4170-b88e-185e27d09211",
   "metadata": {},
   "source": [
    "## The Slicing Code"
   ]
  },
  {
   "cell_type": "code",
   "execution_count": null,
   "id": "ce50471c-f291-45dc-a388-bf6557f69e2f",
   "metadata": {
    "tags": [
     "outputPrepend"
    ]
   },
   "outputs": [],
   "source": [
    "#Edit this to clip Only the remaining files and not RECLIP existing files\n",
    "for h in list(unslicedset):\n",
    "    \n",
    "    #creating single row dataframe for each YT file\n",
    "    name=findIdx(h)\n",
    "    minidf=df_reduced[df_reduced['# YTID'].isin([name])] \n",
    "    pprint(minidf[['# YTID', ' start_seconds', ' end_seconds']])\n",
    "    \n",
    "    #Renaming newfiles for the slicing function\n",
    "    rawname=minidf.iloc[0]['# YTID']\n",
    "    newname=destroydash(rawname)\n",
    "    \n",
    "    #Getting start and end timings to slice\n",
    "    start=minidf.iloc[0][' start_seconds']\n",
    "    end=minidf.iloc[0][' end_seconds']\n",
    "    \n",
    "    #Getting filepath of each file for the slicing function\n",
    "    filepath=\"D:\\\\Alroy youtube proj\\\\\"+h\n",
    "    \n",
    "    #Renaming the output clip\n",
    "    endpath=\"D:\\\\Alroy youtube proj\\\\Snippets\\\\\"+newname+\".mp4\"\n",
    "   \n",
    "    #Continue slicing even if clip-end timing exceed video duration\n",
    "    end=exceedTime(h,end)\n",
    "    \n",
    "    #ffmpeg_extract_subclip(filepath,start,end, targetname=endpath) <- the OLD ultimate slicing function\n",
    "    #The New Slicing Function\n",
    "    slicingCodeOS(filepath, start, end, endpath, newname)\n",
    "    print(h, 'has been clipped sucessfully')"
   ]
  }
 ],
 "metadata": {
  "interpreter": {
   "hash": "eadb1903d511b66be90d18992371b3d3e9defb056438e73fbbc32f2569bc34fe"
  },
  "kernelspec": {
   "display_name": "Python 3",
   "language": "python",
   "name": "python3"
  },
  "language_info": {
   "codemirror_mode": {
    "name": "ipython",
    "version": 3
   },
   "file_extension": ".py",
   "mimetype": "text/x-python",
   "name": "python",
   "nbconvert_exporter": "python",
   "pygments_lexer": "ipython3",
   "version": "3.9.5"
  }
 },
 "nbformat": 4,
 "nbformat_minor": 5
}
