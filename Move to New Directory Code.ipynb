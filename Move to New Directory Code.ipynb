{
 "cells": [
  {
   "cell_type": "markdown",
   "id": "5c893cbb",
   "metadata": {},
   "source": [
    "os.makedirs(\"flacfiles\")"
   ]
  },
  {
   "cell_type": "code",
   "execution_count": 32,
   "id": "547d6eba",
   "metadata": {},
   "outputs": [],
   "source": [
    "import numpy as np\n",
    "import soundfile as sf\n",
    "import pydub\n",
    "import glob\n",
    "import os, shutil\n",
    "from pprint import pprint\n",
    "#Done"
   ]
  },
  {
   "cell_type": "code",
   "execution_count": 4,
   "id": "d712ba45",
   "metadata": {},
   "outputs": [
    {
     "data": {
      "text/plain": [
       "'C:\\\\Users\\\\DSPLAB\\\\Desktop\\\\Alroy Data\\\\NoisRed_Nom_Cnvrt'"
      ]
     },
     "execution_count": 4,
     "metadata": {},
     "output_type": "execute_result"
    }
   ],
   "source": [
    "os.getcwd()"
   ]
  },
  {
   "cell_type": "code",
   "execution_count": 3,
   "id": "33d2eab1",
   "metadata": {},
   "outputs": [],
   "source": [
    "os.chdir(r'C:\\Users\\DSPLAB\\Desktop\\Alroy Data\\NoisRed_Nom_Cnvrt')"
   ]
  },
  {
   "cell_type": "code",
   "execution_count": 13,
   "id": "9b109e2f",
   "metadata": {},
   "outputs": [],
   "source": [
    "def chngdir(loc): #rmbr to put '' during loc input\n",
    "    directory = 'r'+loc\n",
    "    os.chdir(directory)"
   ]
  },
  {
   "cell_type": "markdown",
   "id": "a897f903-2173-45b6-b579-e85eb137ce16",
   "metadata": {},
   "source": [
    "path = r'C:\\Users\\DSPLAB\\Desktop\\Alroy Data\\NoisRed_Nom_Cnvrt'\n",
    "\n",
    "allfiles = []\n",
    "for (path, dirs, files) in os.walk(path):\n",
    "    #print(path)\n",
    "    #print(dirs)"
   ]
  },
  {
   "cell_type": "code",
   "execution_count": 5,
   "id": "7903265c",
   "metadata": {},
   "outputs": [],
   "source": [
    "key1='b827eb7d576e'\n",
    "key2='b827ebdf9c2e'\n",
    "key3='b827ebd63759'\n",
    "key4='b827ebd5f219'\n",
    "key5='b827ebb511fa'\n",
    "key6='b827eb0ebf2f'\n",
    "key7='b827eb0746c4'\n",
    "key8='b827ebc68a63'\n",
    "key9='b827ebf3744c'\n",
    "key10='b827eb712b1a'\n",
    "key11='b827eb452ccb'\n",
    "key12='b827eb39963e'\n",
    "key13='b827eb3e52b8'\n",
    "key14='b827eb52c6ce'\n",
    "key15='b827eb7680c5'\n",
    "key16='b827ebbc6e34'\n",
    "key17='b827ebb954cd'\n",
    "key18='b827eb0a63c9'\n",
    "key19='b827eb2c0a4e'"
   ]
  },
  {
   "cell_type": "markdown",
   "id": "a9112c71",
   "metadata": {},
   "source": [
    "key = ['b827eb7d576e','b827ebdf9c2e','b827ebd63759','b827ebd5f219','b827ebb511fa','b827eb0ebf2f','b827eb0746c4','b827ebc68a63','b827ebf3744c','b827eb712b1a','b827eb452ccb','b827eb39963e','b827eb3e52b8','b827eb52c6ce','b827eb7680c5','b827ebbc6e34','b827ebb954cd','b827eb0a63c9','b827eb2c0a4e']"
   ]
  },
  {
   "cell_type": "code",
   "execution_count": 6,
   "id": "b444b224",
   "metadata": {},
   "outputs": [],
   "source": [
    "fold1=r'C:\\Users\\DSPLAB\\Desktop\\Alroy Data\\NoisRed_Nom_Cnvrt\\b827eb7d576e'\n",
    "fold2=r'C:\\Users\\DSPLAB\\Desktop\\Alroy Data\\NoisRed_Nom_Cnvrt\\b827ebdf9c2e'\n",
    "fold3=r'C:\\Users\\DSPLAB\\Desktop\\Alroy Data\\NoisRed_Nom_Cnvrt\\b827ebd63759'\n",
    "fold4=r'C:\\Users\\DSPLAB\\Desktop\\Alroy Data\\NoisRed_Nom_Cnvrt\\b827ebd5f219'\n",
    "fold5=r'C:\\Users\\DSPLAB\\Desktop\\Alroy Data\\NoisRed_Nom_Cnvrt\\b827ebb511fa'\n",
    "fold6=r'C:\\Users\\DSPLAB\\Desktop\\Alroy Data\\NoisRed_Nom_Cnvrt\\b827eb0ebf2f'\n",
    "fold7=r'C:\\Users\\DSPLAB\\Desktop\\Alroy Data\\NoisRed_Nom_Cnvrt\\b827eb0746c4'\n",
    "fold8=r'C:\\Users\\DSPLAB\\Desktop\\Alroy Data\\NoisRed_Nom_Cnvrt\\b827ebc68a63'\n",
    "fold9=r'C:\\Users\\DSPLAB\\Desktop\\Alroy Data\\NoisRed_Nom_Cnvrt\\b827ebf3744c'\n",
    "fold10=r'C:\\Users\\DSPLAB\\Desktop\\Alroy Data\\NoisRed_Nom_Cnvrt\\b827eb712b1a'\n",
    "fold11=r'C:\\Users\\DSPLAB\\Desktop\\Alroy Data\\NoisRed_Nom_Cnvrt\\b827eb452ccb'\n",
    "fold12=r'C:\\Users\\DSPLAB\\Desktop\\Alroy Data\\NoisRed_Nom_Cnvrt\\b827eb39963e'\n",
    "fold13=r'C:\\Users\\DSPLAB\\Desktop\\Alroy Data\\NoisRed_Nom_Cnvrt\\b827eb3e52b8'\n",
    "fold14=r'C:\\Users\\DSPLAB\\Desktop\\Alroy Data\\NoisRed_Nom_Cnvrt\\b827eb52c6ce'\n",
    "fold15=r'C:\\Users\\DSPLAB\\Desktop\\Alroy Data\\NoisRed_Nom_Cnvrt\\b827eb7680c5'\n",
    "fold16=r'C:\\Users\\DSPLAB\\Desktop\\Alroy Data\\NoisRed_Nom_Cnvrt\\b827ebbc6e34'\n",
    "fold17=r'C:\\Users\\DSPLAB\\Desktop\\Alroy Data\\NoisRed_Nom_Cnvrt\\b827ebb954cd'\n",
    "fold18=r'C:\\Users\\DSPLAB\\Desktop\\Alroy Data\\NoisRed_Nom_Cnvrt\\b827eb0a63c9'\n",
    "fold19=r'C:\\Users\\DSPLAB\\Desktop\\Alroy Data\\NoisRed_Nom_Cnvrt\\b827eb2c0a4e'"
   ]
  },
  {
   "cell_type": "code",
   "execution_count": null,
   "id": "bdd5c0f9",
   "metadata": {},
   "outputs": [],
   "source": [
    "folder = input(\"pick a folder : \") #i accdientally move all files from subfolders to working directory\n",
    "subfolders = [f.path for f in os.scandir(folder) if f.is_dir()]\n",
    "\n",
    "for sub in subfolders:\n",
    "    for f in os.listdir(sub):\n",
    "        src = os.path.join(sub, f)\n",
    "        dst = os.path.join(folder, f)\n",
    "        shutil.move(src, dst)"
   ]
  },
  {
   "cell_type": "code",
   "execution_count": 11,
   "id": "f4d46477",
   "metadata": {},
   "outputs": [],
   "source": [
    "path=os.listdir(r'C:\\Users\\DSPLAB\\Desktop\\Alroy Data\\NoisRed_Nom_Cnvrt')\n",
    "for i in path:\n",
    "    if key1 in i:\n",
    "        shutil.move(i,fold1)"
   ]
  },
  {
   "cell_type": "code",
   "execution_count": 12,
   "id": "3999e442",
   "metadata": {},
   "outputs": [],
   "source": [
    "path=os.listdir(r'C:\\Users\\DSPLAB\\Desktop\\Alroy Data\\NoisRed_Nom_Cnvrt')\n",
    "for i in path:\n",
    "    if key2 in i:\n",
    "        shutil.move(i,fold2)"
   ]
  },
  {
   "cell_type": "code",
   "execution_count": 13,
   "id": "d07f878e",
   "metadata": {},
   "outputs": [],
   "source": [
    "path=os.listdir(r'C:\\Users\\DSPLAB\\Desktop\\Alroy Data\\NoisRed_Nom_Cnvrt')\n",
    "for i in path:\n",
    "    if key3 in i:\n",
    "        shutil.move(i,fold3)"
   ]
  },
  {
   "cell_type": "code",
   "execution_count": 16,
   "id": "aed7c4d4",
   "metadata": {},
   "outputs": [],
   "source": [
    "path=os.listdir(r'C:\\Users\\DSPLAB\\Desktop\\Alroy Data\\NoisRed_Nom_Cnvrt')\n",
    "for i in path:\n",
    "    if key4 in i:\n",
    "        shutil.move(i,fold4)"
   ]
  },
  {
   "cell_type": "code",
   "execution_count": 17,
   "id": "d52d2ca9",
   "metadata": {},
   "outputs": [],
   "source": [
    "path=os.listdir(r'C:\\Users\\DSPLAB\\Desktop\\Alroy Data\\NoisRed_Nom_Cnvrt')\n",
    "for i in path:\n",
    "    if key5 in i:\n",
    "        shutil.move(i,fold5)"
   ]
  },
  {
   "cell_type": "code",
   "execution_count": 18,
   "id": "f9a76251",
   "metadata": {},
   "outputs": [],
   "source": [
    "path=os.listdir(r'C:\\Users\\DSPLAB\\Desktop\\Alroy Data\\NoisRed_Nom_Cnvrt')\n",
    "for i in path:\n",
    "    if key6 in i:\n",
    "        shutil.move(i,fold6)"
   ]
  },
  {
   "cell_type": "code",
   "execution_count": 19,
   "id": "898d88b2",
   "metadata": {},
   "outputs": [],
   "source": [
    "path=os.listdir(r'C:\\Users\\DSPLAB\\Desktop\\Alroy Data\\NoisRed_Nom_Cnvrt')\n",
    "for i in path:\n",
    "    if key7 in i:\n",
    "        shutil.move(i,fold7)"
   ]
  },
  {
   "cell_type": "code",
   "execution_count": 20,
   "id": "9f2f932b",
   "metadata": {},
   "outputs": [],
   "source": [
    "path=os.listdir(r'C:\\Users\\DSPLAB\\Desktop\\Alroy Data\\NoisRed_Nom_Cnvrt')\n",
    "for i in path:\n",
    "    if key8 in i:\n",
    "        shutil.move(i,fold8)"
   ]
  },
  {
   "cell_type": "code",
   "execution_count": 21,
   "id": "7272cfa1",
   "metadata": {},
   "outputs": [],
   "source": [
    "path=os.listdir(r'C:\\Users\\DSPLAB\\Desktop\\Alroy Data\\NoisRed_Nom_Cnvrt')\n",
    "for i in path:\n",
    "    if key9 in i:\n",
    "        shutil.move(i,fold9)"
   ]
  },
  {
   "cell_type": "code",
   "execution_count": 22,
   "id": "29f4fc40",
   "metadata": {},
   "outputs": [],
   "source": [
    "path=os.listdir(r'C:\\Users\\DSPLAB\\Desktop\\Alroy Data\\NoisRed_Nom_Cnvrt')\n",
    "for i in path:\n",
    "    if key10 in i:\n",
    "        shutil.move(i,fold10)"
   ]
  },
  {
   "cell_type": "code",
   "execution_count": 23,
   "id": "dd30e80e",
   "metadata": {},
   "outputs": [],
   "source": [
    "path=os.listdir(r'C:\\Users\\DSPLAB\\Desktop\\Alroy Data\\NoisRed_Nom_Cnvrt')\n",
    "for i in path:\n",
    "    if key11 in i:\n",
    "        shutil.move(i,fold11)"
   ]
  },
  {
   "cell_type": "code",
   "execution_count": 24,
   "id": "9e6d867d",
   "metadata": {},
   "outputs": [],
   "source": [
    "path=os.listdir(r'C:\\Users\\DSPLAB\\Desktop\\Alroy Data\\NoisRed_Nom_Cnvrt')\n",
    "for i in path:\n",
    "    if key12 in i:\n",
    "        shutil.move(i,fold12)"
   ]
  },
  {
   "cell_type": "code",
   "execution_count": 25,
   "id": "e3e1175d",
   "metadata": {},
   "outputs": [],
   "source": [
    "path=os.listdir(r'C:\\Users\\DSPLAB\\Desktop\\Alroy Data\\NoisRed_Nom_Cnvrt')\n",
    "for i in path:\n",
    "    if key13 in i:\n",
    "        shutil.move(i,fold13)"
   ]
  },
  {
   "cell_type": "code",
   "execution_count": 26,
   "id": "c5ad92ff",
   "metadata": {},
   "outputs": [],
   "source": [
    "path=os.listdir(r'C:\\Users\\DSPLAB\\Desktop\\Alroy Data\\NoisRed_Nom_Cnvrt')\n",
    "for i in path:\n",
    "    if key14 in i:\n",
    "        shutil.move(i,fold14)"
   ]
  },
  {
   "cell_type": "code",
   "execution_count": 27,
   "id": "7859c88f",
   "metadata": {},
   "outputs": [],
   "source": [
    "path=os.listdir(r'C:\\Users\\DSPLAB\\Desktop\\Alroy Data\\NoisRed_Nom_Cnvrt')\n",
    "for i in path:\n",
    "    if key15 in i:\n",
    "        shutil.move(i,fold15)"
   ]
  },
  {
   "cell_type": "code",
   "execution_count": 28,
   "id": "bdaa0d2e",
   "metadata": {},
   "outputs": [],
   "source": [
    "path=os.listdir(r'C:\\Users\\DSPLAB\\Desktop\\Alroy Data\\NoisRed_Nom_Cnvrt')\n",
    "for i in path:\n",
    "    if key16 in i:\n",
    "        shutil.move(i,fold16)"
   ]
  },
  {
   "cell_type": "code",
   "execution_count": 29,
   "id": "885dc4cb",
   "metadata": {},
   "outputs": [],
   "source": [
    "path=os.listdir(r'C:\\Users\\DSPLAB\\Desktop\\Alroy Data\\NoisRed_Nom_Cnvrt')\n",
    "for i in path:\n",
    "    if key17 in i:\n",
    "        shutil.move(i,fold17)"
   ]
  },
  {
   "cell_type": "code",
   "execution_count": 30,
   "id": "4d9f8680",
   "metadata": {},
   "outputs": [],
   "source": [
    "path=os.listdir(r'C:\\Users\\DSPLAB\\Desktop\\Alroy Data\\NoisRed_Nom_Cnvrt')\n",
    "for i in path:\n",
    "    if key18 in i:\n",
    "        shutil.move(i,fold18)"
   ]
  },
  {
   "cell_type": "code",
   "execution_count": 31,
   "id": "3563c5c5",
   "metadata": {},
   "outputs": [],
   "source": [
    "path=os.listdir(r'C:\\Users\\DSPLAB\\Desktop\\Alroy Data\\NoisRed_Nom_Cnvrt')\n",
    "for i in path:\n",
    "    if key19 in i:\n",
    "        shutil.move(i,fold19)"
   ]
  },
  {
   "cell_type": "code",
   "execution_count": null,
   "id": "48638119",
   "metadata": {},
   "outputs": [],
   "source": []
  }
 ],
 "metadata": {
  "kernelspec": {
   "display_name": "Python 3",
   "language": "python",
   "name": "python3"
  },
  "language_info": {
   "codemirror_mode": {
    "name": "ipython",
    "version": 3
   },
   "file_extension": ".py",
   "mimetype": "text/x-python",
   "name": "python",
   "nbconvert_exporter": "python",
   "pygments_lexer": "ipython3",
   "version": "3.9.5"
  }
 },
 "nbformat": 4,
 "nbformat_minor": 5
}
