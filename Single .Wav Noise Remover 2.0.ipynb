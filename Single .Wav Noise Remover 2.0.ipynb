{
 "cells": [
  {
   "cell_type": "code",
   "execution_count": 209,
   "id": "581ec1be-7c63-40cf-be0d-f2b9b8db2988",
   "metadata": {},
   "outputs": [],
   "source": [
    "import numpy as np\n",
    "import soundfile as sf\n",
    "import pydub\n",
    "from pydub import AudioSegment \n",
    "import glob\n",
    "import os, shutil\n",
    "from pprint import pprint\n",
    "import pandas as pd\n",
    "import noisereduce as nr\n",
    "import csv\n",
    "#import audio_noise_reduction, doesnt work\n",
    "#from ipywidgets import IntProgress\n",
    "#convert all .flac files to .wav first\n",
    "#now split all files to single channel\n",
    "#each type of microphone, manually identify background nosie start and end time stamp that I selected for each microphone/location (record down 19 mics only) and remove noise (use python to remove noise)\n",
    "    #Since each microphone is assumed to record the same 'type' of background noise, once i choose a particular track with alot of bg noise i choose a section of it (time stamp)\n",
    "    #- i apply this time stamp to all files recorded by this microphone.\n",
    "#Nominalize"
   ]
  },
  {
   "cell_type": "code",
   "execution_count": 4,
   "id": "d17873cd-2674-4919-9d88-606942325ff2",
   "metadata": {},
   "outputs": [],
   "source": [
    "os.chdir(r'C:\\Users\\DSPLAB\\Desktop')"
   ]
  },
  {
   "cell_type": "code",
   "execution_count": 205,
   "id": "ffd142a7-08df-44ac-aa42-011678baf01b",
   "metadata": {},
   "outputs": [
    {
     "data": {
      "text/plain": [
       "'C:\\\\Users\\\\DSPLAB\\\\Desktop'"
      ]
     },
     "execution_count": 205,
     "metadata": {},
     "output_type": "execute_result"
    }
   ],
   "source": [
    "os.getcwd()"
   ]
  },
  {
   "cell_type": "code",
   "execution_count": 126,
   "id": "8ab8edb1-fe60-4290-8f66-739ccddab6ed",
   "metadata": {},
   "outputs": [],
   "source": [
    "#to convert to .wav\n",
    "def wavcnvrt(chdir, file, fileout):\n",
    "    os.chdir(chdir)\n",
    "    x,sr=sf.read(file)\n",
    "    sf.write(fileout,x,sr)"
   ]
  },
  {
   "cell_type": "code",
   "execution_count": 127,
   "id": "8ee497ca-b040-40af-8eab-3aff545c5d04",
   "metadata": {},
   "outputs": [],
   "source": [
    "def singlech(file,outfile): #to set to single channel, rmbr Outfile need .wav name, file is the path all the way to file, 2 arguements\n",
    "    sound = pydub.AudioSegment.from_file(file)\n",
    "    #sound.export(outfile, format=\"wav\")\n",
    "    #segment = AudioSegment.from_wav(direct)\n",
    "    sound = sound.set_channels(1)\n",
    "    sound.export(outfile, format=\"wav\")\n",
    "    print(outfile)"
   ]
  },
  {
   "cell_type": "code",
   "execution_count": 241,
   "id": "43f837ba-1653-4575-9a33-9dcc40563baf",
   "metadata": {},
   "outputs": [],
   "source": [
    "#data,rate = sf.read(ffile)\n",
    "#noisy_part = data[141810:249696] #because single channel thats why no columnss\n",
    "def noiseremove(ffile): # load single channel wav file, ffile .wav\n",
    "    dataNew,rate = sf.read(ffile) #Other files\n",
    "    noisy_part = data[1115763:1223000]\n",
    "    reduced_noise= nr.reduce_noise(audio_clip=dataNew, noise_clip=noisy_part, verbose=False,n_grad_freq=3,n_grad_time=6)\n",
    "    return reduced_noise\n",
    "    #make it such that each time i run this function, creates a new file instead of overwriting the current testing file. only for testing one by onetracks only. Not for bacth processing"
   ]
  },
  {
   "cell_type": "code",
   "execution_count": 242,
   "id": "dcbe5135-beea-4bd1-87a1-008b25a8c1b1",
   "metadata": {},
   "outputs": [],
   "source": [
    "y=noiseremove('sine_noise - Copy.wav')\n",
    "sf.write('rem sine noise.wav',y,44100)"
   ]
  },
  {
   "cell_type": "markdown",
   "id": "1eb2c06c-4d07-4986-b4ea-841d3672fbf2",
   "metadata": {},
   "source": [
    "#i need to create a new file incase i wrongly use arguements for the reduce.noise() and i dont overwrite the original audio file"
   ]
  },
  {
   "cell_type": "code",
   "execution_count": 244,
   "id": "4c809944-bca2-4d45-8bae-891e60f54df8",
   "metadata": {},
   "outputs": [],
   "source": [
    "# THIS is the working one\n",
    "def testingvariables(inputy,newname): #inputy is the path inclusive of the file(no directory issues if you put abs path), newname is just the newfilename you want.wav\n",
    "    #pick a file with its path put insdie here\\\n",
    "    desti=f'C:\\\\Users\\\\DSPLAB\\Desktop\\\\{newname}' #has to include the filename you want\n",
    "    shutil.copyfile(inputy,desti) \n",
    "    data,sr=sf.read(desti) #select file for noise profile\n",
    "    noisy_part = data[9947:223816] #noise profile, sample rate\n",
    "    reduced_noise= nr.reduce_noise(audio_clip=data, noise_clip=noisy_part, verbose=False,n_grad_freq=3,n_grad_time=6, n_std_thresh=1,use_tensorflow=True)\n",
    "    return reduced_noise"
   ]
  },
  {
   "cell_type": "code",
   "execution_count": 245,
   "id": "e2f0711e-a11a-4883-aeb0-9c9c16aea0aa",
   "metadata": {},
   "outputs": [],
   "source": [
    "# THIS IS THE WORKING Noise remover\n",
    "newname='renew1.wav'\n",
    "array=testingvariables(r'C:\\Users\\DSPLAB\\Desktop\\Alroy Data\\Mics_Location_Folders_Single_Channel\\b827eb0a63c9\\[b827eb0a63c9][2020-08-23T10-58-04Z][manual][---][de313d12d7f31937615be80cc47a1ad9][]-897.wav',newname)\n",
    "sf.write(newname,array,44100)"
   ]
  },
  {
   "cell_type": "markdown",
   "id": "2349b475-08de-4463-adc4-6bae078d1d7b",
   "metadata": {},
   "source": [
    "xfile= 'C:\\\\Users\\\\DSPLAB\\\\Desktop\\\\2020-02-11-fyp-labels-correctly.xlsx'\n",
    "def noisefinder(xfile): #input excel file. output a list of files i can use and their respective two noise ranges. Also Outputs a list of files that is all noise.\n",
    "    df = pd.read_excel(xfile)\n",
    "    #call the event labelm"
   ]
  },
  {
   "cell_type": "markdown",
   "id": "1b4b31b3-7313-4ccd-884e-fcf44a9e5680",
   "metadata": {
    "tags": []
   },
   "source": [
    "df = pd.read_excel ('C:\\\\Users\\\\DSPLAB\\\\Desktop\\\\2020-02-11-fyp-labels-correctly.xlsx')\n",
    "hoomans = df.groupby(['event_label'])\n",
    "for key, item in grouped_obj:\n",
    "    #print(\"Key is: \" + str(key))\n",
    "    for i in str(key):\n",
    "        if str(key)=='7':\n",
    "            print(str(item), \"\\n\\n\")"
   ]
  },
  {
   "cell_type": "markdown",
   "id": "eb522770-1c27-4a8e-9537-fed2248d4f5e",
   "metadata": {
    "tags": []
   },
   "source": [
    "df = pd.read_excel ('C:\\\\Users\\\\DSPLAB\\\\Desktop\\\\2020-02-11-fyp-labels-correctly.xlsx')\n",
    "print(df)"
   ]
  },
  {
   "cell_type": "markdown",
   "id": "e0ac0a5d-3b81-462f-a7c8-d0dee28442f2",
   "metadata": {},
   "source": [
    "df = pd.read_excel ('C:\\\\Users\\\\DSPLAB\\\\Desktop\\\\2020-02-11-fyp-labels-correctly.xlsx')\n",
    "column=df['event_label']\n",
    "print(column)"
   ]
  }
 ],
 "metadata": {
  "kernelspec": {
   "display_name": "Python 3",
   "language": "python",
   "name": "python3"
  },
  "language_info": {
   "codemirror_mode": {
    "name": "ipython",
    "version": 3
   },
   "file_extension": ".py",
   "mimetype": "text/x-python",
   "name": "python",
   "nbconvert_exporter": "python",
   "pygments_lexer": "ipython3",
   "version": "3.9.5"
  }
 },
 "nbformat": 4,
 "nbformat_minor": 5
}
