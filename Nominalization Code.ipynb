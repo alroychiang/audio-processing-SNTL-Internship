{
 "cells": [
  {
   "cell_type": "code",
   "execution_count": null,
   "id": "9f674a00",
   "metadata": {},
   "outputs": [],
   "source": [
    "#to convert .flac to .wav\n",
    "#to Nominalize\n",
    "#to separate all files into folders\n",
    "#to do all this for the entire directory"
   ]
  },
  {
   "cell_type": "code",
   "execution_count": null,
   "id": "6b1c4651",
   "metadata": {},
   "outputs": [],
   "source": [
    "import numpy as np\n",
    "import soundfile as sf\n",
    "import pydub\n",
    "import glob\n",
    "import os, shutil\n",
    "from pprint import pprint\n",
    "import pandas as pd"
   ]
  },
  {
   "cell_type": "code",
   "execution_count": null,
   "id": "aa735005",
   "metadata": {},
   "outputs": [],
   "source": [
    "os.getcwd()"
   ]
  },
  {
   "cell_type": "code",
   "execution_count": null,
   "id": "142ec7ae",
   "metadata": {},
   "outputs": [],
   "source": [
    "os.chdir(r'C:\\Users\\DSPLAB\\Desktop\\Alroy Data\\Mics_Location_Folders_Single_Channel - NR - Nom')"
   ]
  },
  {
   "cell_type": "markdown",
   "id": "efc1161d",
   "metadata": {},
   "source": [
    "os.path.abspath('2020-02-11-fyp-Finaldataset\\\\raw')"
   ]
  },
  {
   "cell_type": "code",
   "execution_count": 13,
   "id": "b195530f",
   "metadata": {},
   "outputs": [],
   "source": [
    "def nominalize(x):\n",
    "    a=-1 #setting the lower limit and upper limit of the nominalization formula respectively\n",
    "    b=1\n",
    "    x_min = np.min(x) #finding the minimum limit value\n",
    "    x_max = np.max(x) #finding the maximum limit value\n",
    "    y=(x-x_min)*((b-a)/(x_max-x_min))+a #updating the value to array x\n",
    "    return y"
   ]
  },
  {
   "cell_type": "code",
   "execution_count": 17,
   "id": "ea2775a9-899e-4856-841c-5947464e6a1e",
   "metadata": {},
   "outputs": [],
   "source": [
    "def Nom(destin,singlefile,newname): #Single file nominalization, destin= directory, singlefile= single file name including .wav/.flac, newname= ___.wav\n",
    "    os.chdir(destin)\n",
    "    array,sr=sf.read(singlefile)\n",
    "    print(array)\n",
    "    z=nominalize(array) #reading array of each track and normalizing it\n",
    "    sf.write(newname,z,sr) #re-writing back the name of each file as 'i'\n",
    "    print('successfully nominalized')"
   ]
  },
  {
   "cell_type": "code",
   "execution_count": null,
   "id": "88eef5c8-3869-4e6c-8e82-d92d515fea44",
   "metadata": {},
   "outputs": [],
   "source": [
    "def batch(direct): #entire folder nominalization, direct= directory(use the \\\\ format, inclusive ofthe '')\n",
    "    directory=direct+'*'+'.wav'\n",
    "    wavfolder = glob.glob(f'\"{directory}\"',recursive=True) #collating all files in subfolders\n",
    "    print(wavfolder)\n",
    "    for i in wavfolder:\n",
    "        array,sr=sf.read(i)\n",
    "        z=nominalize(array) #reading array of each track and normalizing it\n",
    "        sf.write(i,z,sr) #re-writing back the name of each file as 'i'\n",
    "    print('successfully nominalized')"
   ]
  },
  {
   "cell_type": "markdown",
   "id": "890e73dd-12aa-45be-8e81-68e03e8526b0",
   "metadata": {},
   "source": [
    "#to convert .flac to .wav by batch\n",
    "for eachfile in flacfolder:\n",
    "    splitname = eachfile.split('.')\n",
    "    splitname[-1] = '.wav' #splitname[-1] identifies the RHS-most value, # = 'wav' assigns 'wav' to the RHS-most value, [-1] doesnt remove the RHS-most term\n",
    "    editname = ''.join(splitname)#cannot use append because filename is a string, the '.' is also possible\n",
    "    x,sr=sf.read(eachfile)\n",
    "    z=nominalize(x) #activate norminalize function for each indivual 'x', take turns\n",
    "    #pprint(z) #z is now similar to flacfiles, a list of arrays\n",
    "    sf.write(editname,z,sr)"
   ]
  },
  {
   "cell_type": "markdown",
   "id": "95b193db-6cc2-4780-b268-2b6fa17b6d50",
   "metadata": {
    "tags": []
   },
   "source": [
    "#source=glob.glob('*.flac')"
   ]
  },
  {
   "cell_type": "markdown",
   "id": "90fd0cfe-ec61-42eb-ae27-388f04606d86",
   "metadata": {},
   "source": [
    "raw ='C:\\Users\\DSPLAB\\Desktop\\Alroy Data\\not normalized wav files'\n",
    "\n",
    "datefolder=os.listdir(raw)"
   ]
  },
  {
   "cell_type": "markdown",
   "id": "37c8aeee-87f2-4e40-8c63-05fcd3568434",
   "metadata": {},
   "source": [
    "for i in datefolder:\n",
    "    os.chdir(raw+'/'+i)\n",
    "    i=os.mkdir('flacfiles')\n",
    "\n",
    "for u in datefolder:\n",
    "    os.chdir(raw+'/'+u)\n",
    "    flakies = glob.glob('*.flac')\n",
    "    jay='C:/Users/DSPLAB/Desktop/Alroy Data/2020-02-11-fyp-Finaldataset/raw'\n",
    "    destination = jay+'/'+u+'/flacfiles'\n",
    "    for z in flakies:\n",
    "        shutil.move(z,destination)"
   ]
  }
 ],
 "metadata": {
  "kernelspec": {
   "display_name": "Python 3",
   "language": "python",
   "name": "python3"
  },
  "language_info": {
   "codemirror_mode": {
    "name": "ipython",
    "version": 3
   },
   "file_extension": ".py",
   "mimetype": "text/x-python",
   "name": "python",
   "nbconvert_exporter": "python",
   "pygments_lexer": "ipython3",
   "version": "3.9.5"
  }
 },
 "nbformat": 4,
 "nbformat_minor": 5
}
