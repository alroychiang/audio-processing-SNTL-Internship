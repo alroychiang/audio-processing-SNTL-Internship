{
 "cells": [
  {
   "cell_type": "code",
   "execution_count": 2,
   "id": "1109da39",
   "metadata": {},
   "outputs": [],
   "source": [
    "import cv2\n",
    "import os\n",
    "import datetime"
   ]
  },
  {
   "cell_type": "code",
   "execution_count": 10,
   "id": "c5b6ce73",
   "metadata": {},
   "outputs": [
    {
     "name": "stdout",
     "output_type": "stream",
     "text": [
      "No. of frames is: 8629\n",
      "Frames per seconds: 29.97002997002997\n",
      "The vid is 0:04:47.920967 seconds long\n"
     ]
    }
   ],
   "source": [
    "#to get frames, FPS and time(seconds) of inputted video path\n",
    "cap=cv2.VideoCapture(r\"C:\\Users\\DSPLAB\\Desktop\\'Tara na Biyahe Tayo' Music video-0rNr_qnoPQ4.mp4\") #Need to be in r\"....\" format\"\n",
    "\n",
    "fps = cap.get(cv2.CAP_PROP_FPS)\n",
    "length = int(cap.get(cv2.CAP_PROP_FRAME_COUNT))\n",
    "print(\"No. of frames is:\", length )\n",
    "print(\"Frames per seconds:\",fps)\n",
    "\n",
    "time=length/fps\n",
    "\n",
    "dura=str(datetime.timedelta(seconds=time))\n",
    "print(f\"The vid is {dura} seconds long\")"
   ]
  },
  {
   "cell_type": "code",
   "execution_count": 8,
   "id": "a114495e-d55c-4792-a8da-9fe03ce7bf4e",
   "metadata": {},
   "outputs": [
    {
     "name": "stdout",
     "output_type": "stream",
     "text": [
      "True\n"
     ]
    }
   ],
   "source": [
    "print(os.path.exists(r\"C:\\Users\\DSPLAB\\Desktop\\#02 Stock Car _ 2016 - Teaser Velopark (F3 _ CBT _ Marcas)--A0MTi2NMGI.mp4\"))"
   ]
  },
  {
   "cell_type": "code",
   "execution_count": null,
   "id": "b9b42786",
   "metadata": {},
   "outputs": [],
   "source": [
    "os.system('conda install -c conda-forge ffmpeg')"
   ]
  }
 ],
 "metadata": {
  "kernelspec": {
   "display_name": "Python 3",
   "language": "python",
   "name": "python3"
  },
  "language_info": {
   "codemirror_mode": {
    "name": "ipython",
    "version": 3
   },
   "file_extension": ".py",
   "mimetype": "text/x-python",
   "name": "python",
   "nbconvert_exporter": "python",
   "pygments_lexer": "ipython3",
   "version": "3.9.5"
  }
 },
 "nbformat": 4,
 "nbformat_minor": 5
}
