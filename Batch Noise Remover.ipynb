{
 "cells": [
  {
   "cell_type": "code",
   "execution_count": 2,
   "id": "983b26b1-3384-42db-ab93-99cb141d490e",
   "metadata": {},
   "outputs": [
    {
     "name": "stderr",
     "output_type": "stream",
     "text": [
      "C:\\Users\\DSPLAB\\anaconda3\\envs\\alroy\\lib\\site-packages\\noisereduce\\noisereduce.py:5: TqdmExperimentalWarning: Using `tqdm.autonotebook.tqdm` in notebook mode. Use `tqdm.tqdm` instead to force console mode (e.g. in jupyter console)\n",
      "  from tqdm.autonotebook import tqdm\n"
     ]
    }
   ],
   "source": [
    "import numpy as np\n",
    "import soundfile as sf\n",
    "#import pydub\n",
    "#from pydub import AudioSegment \n",
    "import glob\n",
    "import os, shutil\n",
    "from pprint import pprint\n",
    "#import pandas as pd\n",
    "import noisereduce as nr\n",
    "#from noisereduce.generate_noise import band_limited_noise"
   ]
  },
  {
   "cell_type": "code",
   "execution_count": 48,
   "id": "fbe354f9-2aad-4818-882d-6e03a3f7f491",
   "metadata": {},
   "outputs": [
    {
     "data": {
      "text/plain": [
       "'C:\\\\Users\\\\DSPLAB\\\\Desktop\\\\Alroy Data\\\\Mics_Location_Folders_Single_Channel - Copy'"
      ]
     },
     "execution_count": 48,
     "metadata": {},
     "output_type": "execute_result"
    }
   ],
   "source": [
    "os.getcwd()"
   ]
  },
  {
   "cell_type": "code",
   "execution_count": 3,
   "id": "af3ff640-9020-4727-8c20-aff0bcfc0970",
   "metadata": {},
   "outputs": [],
   "source": [
    "os.chdir(r'C:\\Users\\DSPLAB\\Desktop\\Alroy Data\\Mics_Location_Folders_Single_Channel - Copy')"
   ]
  },
  {
   "cell_type": "markdown",
   "id": "2bc4056c-a350-4e0a-b224-6aca30b1a45e",
   "metadata": {},
   "source": [
    "x, sr = sf.read(file_to_get_noise_profile_from)\n",
    "noisy_part = x[sidx:eidx]\n",
    "for file_to_remove_noise_from in my_file_list:\n",
    "    y, sr = sf.read(file_to_remove_noise_from)"
   ]
  },
  {
   "cell_type": "code",
   "execution_count": 9,
   "id": "96dc63ad-9ff8-466f-960c-c55ce112ac4d",
   "metadata": {},
   "outputs": [],
   "source": [
    "#take one chosen file segment and apply it to other files\n",
    "data,rate=sf.read('C:\\\\Users\\\\DSPLAB\\\\Desktop\\\\2b8_noise.wav') #selecting a background noise from a manually chosen track\n",
    "noisy_part = data[231683:383653] #sample rate-th index position, from where to where of the track, can be found can be found in a text file in the noise_reduction_folder\n",
    "allwavs=glob.glob(r'C:\\Users\\DSPLAB\\Desktop\\Alroy Data\\Mics_Location_Folders_Single_Channel - NR\\b827eb3e52b8\\*.wav')\n",
    "\n",
    "for i in allwavs:\n",
    "    y,sr=sf.read(i)\n",
    "    reduced_noise=nr.reduce_noise(audio_clip=y, noise_clip=noisy_part, verbose=False,n_grad_freq=3,n_grad_time=6, n_std_thresh=1,use_tensorflow=False) #reduced_noise = an array\n",
    "    sf.write(i,reduced_noise,sr) #file trunkated and overwritten, doesnt create a copy"
   ]
  },
  {
   "cell_type": "markdown",
   "id": "e6b50e68-86c6-47f4-acda-02b393df9d32",
   "metadata": {
    "tags": []
   },
   "source": [
    "data,rate=sf.read('C:\\\\Users\\\\DSPLAB\\\\Desktop\\\\3c9.wav')\n",
    "noisy_part = data[00000:134505]\n",
    "y,sr=sf.read('C:\\\\Users\\\\DSPLAB\\\\Desktop\\\\anothertry.wav')\n",
    "reduced_noise=nr.reduce_noise(audio_clip=y, noise_clip=noisy_part, verbose=False,n_grad_freq=3,n_grad_time=6, n_std_thresh=1,use_tensorflow=False) #reduced_noise produces an array\n",
    "sf.write('C:\\\\Users\\\\DSPLAB\\\\Desktop\\\\anothertry1.wav',reduced_noise,sr)"
   ]
  },
  {
   "cell_type": "code",
   "execution_count": null,
   "id": "7e04577b-cf22-4a44-8c30-e9529cab7f94",
   "metadata": {},
   "outputs": [],
   "source": []
  }
 ],
 "metadata": {
  "kernelspec": {
   "display_name": "Python 3",
   "language": "python",
   "name": "python3"
  },
  "language_info": {
   "codemirror_mode": {
    "name": "ipython",
    "version": 3
   },
   "file_extension": ".py",
   "mimetype": "text/x-python",
   "name": "python",
   "nbconvert_exporter": "python",
   "pygments_lexer": "ipython3",
   "version": "3.9.5"
  }
 },
 "nbformat": 4,
 "nbformat_minor": 5
}
