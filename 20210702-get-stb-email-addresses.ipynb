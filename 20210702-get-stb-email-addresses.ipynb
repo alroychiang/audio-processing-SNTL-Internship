{
 "cells": [
  {
   "cell_type": "markdown",
   "metadata": {},
   "source": [
    "# Get all contact details of STB licensed tour guides"
   ]
  },
  {
   "cell_type": "code",
   "execution_count": 12,
   "metadata": {},
   "outputs": [],
   "source": [
    "import os\n",
    "import re, pickle, pdb\n",
    "import pandas as pd\n",
    "from tqdm import tqdm\n",
    "from selenium import webdriver\n",
    "from selenium.webdriver.common.keys import Keys\n",
    "from bs4 import BeautifulSoup"
   ]
  },
  {
   "cell_type": "code",
   "execution_count": 13,
   "metadata": {},
   "outputs": [],
   "source": [
    "def get_contact_list(html_doc, verbose = 1):\n",
    "    '''\n",
    "    This function returns the contact list of a page of tour guides on the STB website, given the source represented as html_doc\n",
    "    Input:\n",
    "        html_doc (str): A string representing the entire page source of a page of tour guides on the STB website.\n",
    "        verbose (bool): Prints status while executing if True, prints nothing if False.\n",
    "    Output:\n",
    "        contact_list (list of dict): A list of dictionaries, where each dictionary corresponds to the contact details (name/alias/tel/email) of an STB tour guide.\n",
    "    '''\n",
    "    x = re.findall('<a class=\"tooltip-icon\".*?\"(.*?)\"|<div class=\"name long-truncated\">(.*?)</div|<div class=\"alias-name\">(.*?)</div',html_doc) # List of tuples of strings, of which at most one  is nonempty.\n",
    "    print(f'First few elements of x:{x[:5]}')\n",
    "    \n",
    "    contact_list = []\n",
    "    details = {'name':'','alias':'','tel':'','email':''}\n",
    "    for elem in x: # elem is a tuple\n",
    "        # Execute instructions based on which string in the tuple is nonempty. If all strings are empty then nothing is done.\n",
    "        if elem[1]: # Then it must be a full name due to the format of the regex search (which starts a new entry in contact_list because all other details come after this.\n",
    "            contact_list.append(details)\n",
    "            details = {'name':'','alias':'','tel':'','email':''}\n",
    "            details['name'] = elem[1].title() # Capitalize first letter of each word in name only.\n",
    "        elif elem[2]: # Then it must be an alias due to the format of the regex search.\n",
    "            details['alias'] = elem[2].title() # Capitalize first letter of each word in name only.\n",
    "        elif elem[0]: # Then it can be either a telephone number or email due to the format of the regex search.\n",
    "            if re.search('tel:',elem[0]):\n",
    "                details['tel'] = re.findall('tel:(.*)',elem[0])[0]\n",
    "            else:\n",
    "                details['email'] = re.findall('mailto:(.*)',elem[0])[0]\n",
    "    contact_list.append(details)\n",
    "    contact_list.pop(0)\n",
    "    return contact_list"
   ]
  },
  {
   "cell_type": "markdown",
   "metadata": {},
   "source": [
    "Note to self: Somehow this code returns only 2940 results when the STB website claims to have 2962. Maybe there's something wrong with the code or the STB website, but 2940 email addresses is sufficient for our purpose so I'm just going to conveniently ignore it here. If there's a need to someone else can fix it next time."
   ]
  },
  {
   "cell_type": "code",
   "execution_count": 16,
   "metadata": {},
   "outputs": [
    {
     "name": "stderr",
     "output_type": "stream",
     "text": [
      "  1%|▍                                                                               | 1/197 [01:08<3:44:04, 68.59s/it]"
     ]
    },
    {
     "name": "stdout",
     "output_type": "stream",
     "text": [
      "First few elements of x:[]\n"
     ]
    },
    {
     "name": "stderr",
     "output_type": "stream",
     "text": [
      "  1%|▊                                                                               | 2/197 [01:20<1:55:15, 35.46s/it]"
     ]
    },
    {
     "name": "stdout",
     "output_type": "stream",
     "text": [
      "First few elements of x:[('', 'LAU YUET NI', ''), ('', '', ''), ('tel:96960652', '', ''), ('mailto:lauyn@yahoo.com', '', ''), ('', '', '')]\n"
     ]
    },
    {
     "name": "stderr",
     "output_type": "stream",
     "text": [
      "  2%|█▏                                                                              | 3/197 [01:31<1:17:20, 23.92s/it]"
     ]
    },
    {
     "name": "stdout",
     "output_type": "stream",
     "text": [
      "First few elements of x:[('', 'GAIL SINGH S/O MASSA SINGH', ''), ('', '', ''), ('tel:94562353', '', ''), ('mailto:gailsingh_massasingh@hotmail.com', '', ''), ('', '', '')]\n"
     ]
    },
    {
     "name": "stderr",
     "output_type": "stream",
     "text": [
      "  2%|█▌                                                                              | 4/197 [01:41<1:00:17, 18.75s/it]"
     ]
    },
    {
     "name": "stdout",
     "output_type": "stream",
     "text": [
      "First few elements of x:[('', 'ADIDA BINTE HUSSEIN', ''), ('', '', ''), ('tel:96305521', '', ''), ('mailto:adidahussein_ah@yahoo.com.sg', '', ''), ('', '', '')]\n"
     ]
    },
    {
     "name": "stderr",
     "output_type": "stream",
     "text": [
      "  3%|██                                                                                | 5/197 [01:53<51:52, 16.21s/it]"
     ]
    },
    {
     "name": "stdout",
     "output_type": "stream",
     "text": [
      "First few elements of x:[('', 'NAGAKO SUZUKI', ''), ('', '', ''), ('tel:96855312', '', ''), ('mailto:geognut@gmail.com', '', ''), ('', '', '')]\n"
     ]
    },
    {
     "name": "stderr",
     "output_type": "stream",
     "text": [
      "  3%|██▍                                                                               | 6/197 [02:03<45:11, 14.19s/it]"
     ]
    },
    {
     "name": "stdout",
     "output_type": "stream",
     "text": [
      "First few elements of x:[('', 'ABDULLAH BIN ABDUL RAHIM', ''), ('', '', ''), ('tel:86123643', '', ''), ('mailto:sayabdul733@gmail.com', '', ''), ('', '', '')]\n"
     ]
    },
    {
     "name": "stderr",
     "output_type": "stream",
     "text": [
      "  4%|██▉                                                                               | 7/197 [02:16<42:56, 13.56s/it]"
     ]
    },
    {
     "name": "stdout",
     "output_type": "stream",
     "text": [
      "First few elements of x:[('', 'SHARIF BIN JAMBARI', ''), ('', '', ''), ('tel:97762124', '', ''), ('mailto:tiaqistynna@yahoo.com.sg', '', ''), ('', '', '')]\n"
     ]
    },
    {
     "name": "stderr",
     "output_type": "stream",
     "text": [
      "  4%|███▎                                                                              | 8/197 [02:26<39:07, 12.42s/it]"
     ]
    },
    {
     "name": "stdout",
     "output_type": "stream",
     "text": [
      "First few elements of x:[('', 'Tan Huat Keong', ''), ('', '', 'Jack'), ('tel:96663306', '', ''), ('mailto:jackelsonn@hotmail.com', '', ''), ('', '', 'Jack')]\n"
     ]
    },
    {
     "name": "stderr",
     "output_type": "stream",
     "text": [
      "  5%|███▋                                                                              | 9/197 [02:35<36:25, 11.62s/it]"
     ]
    },
    {
     "name": "stdout",
     "output_type": "stream",
     "text": [
      "First few elements of x:[('', 'Janice Cheong Yoke Heng', ''), ('', '', ''), ('tel:97281228', '', ''), ('mailto:janice0757@yahoo.com.sg', '', ''), ('', '', '')]\n"
     ]
    },
    {
     "name": "stderr",
     "output_type": "stream",
     "text": [
      "  5%|████                                                                             | 10/197 [02:46<34:59, 11.23s/it]"
     ]
    },
    {
     "name": "stdout",
     "output_type": "stream",
     "text": [
      "First few elements of x:[('', 'SHIEH SHIO LIN BEGONIA', ''), ('', '', ''), ('mailto:begoniashi@gmail.com', '', ''), ('', '', ''), ('mailto:begoniashi@gmail.com', '', '')]\n"
     ]
    },
    {
     "name": "stderr",
     "output_type": "stream",
     "text": [
      "  6%|████▌                                                                            | 11/197 [02:57<35:14, 11.37s/it]"
     ]
    },
    {
     "name": "stdout",
     "output_type": "stream",
     "text": [
      "First few elements of x:[('', 'DANIEL ONG BOON HUAT', ''), ('', '', ''), ('tel:96337365', '', ''), ('mailto:danielongbh@gmail.com', '', ''), ('', '', '')]\n"
     ]
    },
    {
     "name": "stderr",
     "output_type": "stream",
     "text": [
      "  6%|████▉                                                                            | 12/197 [03:09<34:55, 11.33s/it]"
     ]
    },
    {
     "name": "stdout",
     "output_type": "stream",
     "text": [
      "First few elements of x:[('', 'KOH LIAN HOE', ''), ('', '', ''), ('tel:97873224', '', ''), ('mailto:lhkoh9959@yahoo.com.sg', '', ''), ('', '', '')]\n"
     ]
    },
    {
     "name": "stderr",
     "output_type": "stream",
     "text": [
      "  7%|█████▎                                                                           | 13/197 [03:19<33:44, 11.00s/it]"
     ]
    },
    {
     "name": "stdout",
     "output_type": "stream",
     "text": [
      "First few elements of x:[('', 'GOH YAP NGIAH', ''), ('', '', ''), ('tel:94522188', '', ''), ('mailto:yng6331@yahoo.com.sg', '', ''), ('', '', '')]\n"
     ]
    },
    {
     "name": "stderr",
     "output_type": "stream",
     "text": [
      "  7%|█████▊                                                                           | 14/197 [03:29<32:16, 10.58s/it]"
     ]
    },
    {
     "name": "stdout",
     "output_type": "stream",
     "text": [
      "First few elements of x:[('', 'SER MOEY ENG', ''), ('', '', ''), ('tel:96478186', '', ''), ('mailto:mlim65@hotmail.com', '', ''), ('', '', '')]\n"
     ]
    },
    {
     "name": "stderr",
     "output_type": "stream",
     "text": [
      "  8%|██████▏                                                                          | 15/197 [03:39<31:31, 10.40s/it]"
     ]
    },
    {
     "name": "stdout",
     "output_type": "stream",
     "text": [
      "First few elements of x:[('', 'LIM SIOK TUAN', ''), ('', '', ''), ('tel:97505863', '', ''), ('mailto:panna68@yahoo.com.sg', '', ''), ('', '', '')]\n"
     ]
    },
    {
     "name": "stderr",
     "output_type": "stream",
     "text": [
      "  8%|██████▌                                                                          | 16/197 [03:48<30:13, 10.02s/it]"
     ]
    },
    {
     "name": "stdout",
     "output_type": "stream",
     "text": [
      "First few elements of x:[('', 'LEE BON TEE', ''), ('', '', ''), ('tel:91012995', '', ''), ('mailto:pennykee@tyjfood.com', '', ''), ('', '', '')]\n"
     ]
    },
    {
     "name": "stderr",
     "output_type": "stream",
     "text": [
      "  9%|██████▉                                                                          | 17/197 [03:58<29:52,  9.96s/it]"
     ]
    },
    {
     "name": "stdout",
     "output_type": "stream",
     "text": [
      "First few elements of x:[('', 'Wong Lai Kuen', ''), ('', '', 'Jane'), ('tel:90083366', '', ''), ('', '', 'Jane'), ('tel:90083366', '', '')]\n"
     ]
    },
    {
     "name": "stderr",
     "output_type": "stream",
     "text": [
      "  9%|███████▍                                                                         | 18/197 [04:08<30:11, 10.12s/it]"
     ]
    },
    {
     "name": "stdout",
     "output_type": "stream",
     "text": [
      "First few elements of x:[('', 'Yvonne Lim Yuling', ''), ('', '', ''), ('', '', ''), ('', 'Manjeet Kaur D/O Pritam Singh', ''), ('', '', '')]\n"
     ]
    },
    {
     "name": "stderr",
     "output_type": "stream",
     "text": [
      " 10%|███████▊                                                                         | 19/197 [04:18<29:50, 10.06s/it]"
     ]
    },
    {
     "name": "stdout",
     "output_type": "stream",
     "text": [
      "First few elements of x:[('', 'Ling Boon Hock', ''), ('', '', ''), ('tel:97438529', '', ''), ('', '', ''), ('tel:97438529', '', '')]\n"
     ]
    },
    {
     "name": "stderr",
     "output_type": "stream",
     "text": [
      " 10%|████████▏                                                                        | 20/197 [04:28<29:42, 10.07s/it]"
     ]
    },
    {
     "name": "stdout",
     "output_type": "stream",
     "text": [
      "First few elements of x:[('', 'LI EN YONG', ''), ('', '', 'CANDY'), ('tel:97399083', '', ''), ('mailto:joeynin2000@yahoo.com.sg', '', ''), ('', '', 'CANDY')]\n"
     ]
    },
    {
     "name": "stderr",
     "output_type": "stream",
     "text": [
      " 11%|████████▋                                                                        | 21/197 [04:38<29:38, 10.11s/it]"
     ]
    },
    {
     "name": "stdout",
     "output_type": "stream",
     "text": [
      "First few elements of x:[('', 'Hong Sun Hee', ''), ('', '', ''), ('tel:97109257', '', ''), ('mailto:mdmhong9710@gmail.com', '', ''), ('', '', '')]\n"
     ]
    },
    {
     "name": "stderr",
     "output_type": "stream",
     "text": [
      " 11%|█████████                                                                        | 22/197 [04:49<29:43, 10.19s/it]"
     ]
    },
    {
     "name": "stdout",
     "output_type": "stream",
     "text": [
      "First few elements of x:[('', 'Lim Ah Huat', ''), ('', '', 'Anthony'), ('tel:94880688', '', ''), ('mailto:anthonylim@restnrelaxholidays.com', '', ''), ('', '', 'Anthony')]\n"
     ]
    },
    {
     "name": "stderr",
     "output_type": "stream",
     "text": [
      " 12%|█████████▍                                                                       | 23/197 [05:02<32:37, 11.25s/it]"
     ]
    },
    {
     "name": "stdout",
     "output_type": "stream",
     "text": [
      "First few elements of x:[('', 'FOO KUM KOK', ''), ('', '', ''), ('tel:96688031', '', ''), ('mailto:jxfoo@hotmail.com', '', ''), ('', '', '')]\n"
     ]
    },
    {
     "name": "stderr",
     "output_type": "stream",
     "text": [
      " 12%|█████████▊                                                                       | 24/197 [05:12<31:16, 10.85s/it]"
     ]
    },
    {
     "name": "stdout",
     "output_type": "stream",
     "text": [
      "First few elements of x:[('', 'FOO KIT LOO', ''), ('', '', ''), ('tel:97531783', '', ''), ('mailto:fkitlu@yahoo.com.sg', '', ''), ('', '', '')]\n"
     ]
    },
    {
     "name": "stderr",
     "output_type": "stream",
     "text": [
      " 13%|██████████▎                                                                      | 25/197 [05:22<30:20, 10.58s/it]"
     ]
    },
    {
     "name": "stdout",
     "output_type": "stream",
     "text": [
      "First few elements of x:[('', 'Loh Kok Whye', ''), ('', '', ''), ('tel:92717902', '', ''), ('mailto:philiplohmg@gmail.com', '', ''), ('', '', '')]\n"
     ]
    },
    {
     "name": "stderr",
     "output_type": "stream",
     "text": [
      " 13%|██████████▋                                                                      | 26/197 [05:32<29:05, 10.21s/it]"
     ]
    },
    {
     "name": "stdout",
     "output_type": "stream",
     "text": [
      "First few elements of x:[('', 'Lee Hae Sun', ''), ('', '', ''), ('tel:96701809', '', ''), ('mailto:leehsjasmine@gmail.com', '', ''), ('', '', '')]\n"
     ]
    },
    {
     "name": "stderr",
     "output_type": "stream",
     "text": [
      " 14%|███████████                                                                      | 27/197 [05:42<29:14, 10.32s/it]"
     ]
    },
    {
     "name": "stdout",
     "output_type": "stream",
     "text": [
      "First few elements of x:[('', 'NG GEOK LING', ''), ('', '', ''), ('tel:96756034', '', ''), ('', '', ''), ('tel:96756034', '', '')]\n"
     ]
    },
    {
     "name": "stderr",
     "output_type": "stream",
     "text": [
      " 14%|███████████▌                                                                     | 28/197 [05:52<28:49, 10.23s/it]"
     ]
    },
    {
     "name": "stdout",
     "output_type": "stream",
     "text": [
      "First few elements of x:[('', 'EU CHEN NEE JENNY', ''), ('', '', ''), ('tel:94762008', '', ''), ('mailto:venritaeu168@hotmail.com', '', ''), ('', '', '')]\n"
     ]
    },
    {
     "name": "stderr",
     "output_type": "stream",
     "text": [
      " 15%|███████████▉                                                                     | 29/197 [06:02<28:44, 10.27s/it]"
     ]
    },
    {
     "name": "stdout",
     "output_type": "stream",
     "text": [
      "First few elements of x:[('', 'Goh Wee Peng', ''), ('', '', ''), ('tel:97931817', '', ''), ('mailto:mike260802@gmail.com', '', ''), ('', '', '')]\n"
     ]
    },
    {
     "name": "stderr",
     "output_type": "stream",
     "text": [
      " 15%|████████████▎                                                                    | 30/197 [06:13<28:50, 10.36s/it]"
     ]
    },
    {
     "name": "stdout",
     "output_type": "stream",
     "text": [
      "First few elements of x:[('', 'CHUA KIM HONG', ''), ('', '', ''), ('tel:93853752', '', ''), ('', '', ''), ('tel:93853752', '', '')]\n"
     ]
    },
    {
     "name": "stderr",
     "output_type": "stream",
     "text": [
      " 16%|████████████▋                                                                    | 31/197 [06:23<28:11, 10.19s/it]"
     ]
    },
    {
     "name": "stdout",
     "output_type": "stream",
     "text": [
      "First few elements of x:[('', 'Lim Geok Siong', ''), ('', '', ''), ('tel:96167302', '', ''), ('mailto:geoksionglim@gmail.com', '', ''), ('', '', '')]\n"
     ]
    },
    {
     "name": "stderr",
     "output_type": "stream",
     "text": [
      " 16%|█████████████▏                                                                   | 32/197 [06:33<28:09, 10.24s/it]"
     ]
    },
    {
     "name": "stdout",
     "output_type": "stream",
     "text": [
      "First few elements of x:[('', 'Chan Sok Koong Sheary', ''), ('', '', ''), ('tel:96731583', '', ''), ('', '', ''), ('tel:96731583', '', '')]\n"
     ]
    },
    {
     "name": "stderr",
     "output_type": "stream",
     "text": [
      " 17%|█████████████▌                                                                   | 33/197 [06:43<27:38, 10.11s/it]"
     ]
    },
    {
     "name": "stdout",
     "output_type": "stream",
     "text": [
      "First few elements of x:[('', 'Ooi Cheng Phoe', ''), ('', '', ''), ('tel:96629811', '', ''), ('mailto:OOI@FOSTER.COM.SG', '', ''), ('', '', '')]\n"
     ]
    },
    {
     "name": "stderr",
     "output_type": "stream",
     "text": [
      " 17%|█████████████▉                                                                   | 34/197 [06:53<27:12, 10.01s/it]"
     ]
    },
    {
     "name": "stdout",
     "output_type": "stream",
     "text": [
      "First few elements of x:[('', 'KIM CHANG HYUN', ''), ('', '', ''), ('mailto:SINGAKIM@GMAIL.COM', '', ''), ('', '', ''), ('mailto:SINGAKIM@GMAIL.COM', '', '')]\n"
     ]
    },
    {
     "name": "stderr",
     "output_type": "stream",
     "text": [
      " 18%|██████████████▍                                                                  | 35/197 [07:02<26:43,  9.90s/it]"
     ]
    },
    {
     "name": "stdout",
     "output_type": "stream",
     "text": [
      "First few elements of x:[('', 'CHENG YEW TOCK', ''), ('', '', ''), ('tel:93875264', '', ''), ('mailto:josephinecyt48@gmail.com', '', ''), ('', '', '')]\n"
     ]
    },
    {
     "name": "stderr",
     "output_type": "stream",
     "text": [
      " 18%|██████████████▊                                                                  | 36/197 [07:13<26:45,  9.97s/it]"
     ]
    },
    {
     "name": "stdout",
     "output_type": "stream",
     "text": [
      "First few elements of x:[('', 'YEO CHIEW HONG', ''), ('', '', ''), ('tel:97902111', '', ''), ('mailto:evonevonych@yahoo.com.sg', '', ''), ('', '', '')]\n"
     ]
    },
    {
     "name": "stderr",
     "output_type": "stream",
     "text": [
      " 19%|███████████████▏                                                                 | 37/197 [07:23<26:38,  9.99s/it]"
     ]
    },
    {
     "name": "stdout",
     "output_type": "stream",
     "text": [
      "First few elements of x:[('', 'ONG BEE CHWEE', ''), ('', '', ''), ('tel:90077932', '', ''), ('mailto:ongbc5@hotmail.com', '', ''), ('', '', '')]\n"
     ]
    },
    {
     "name": "stderr",
     "output_type": "stream",
     "text": [
      " 19%|███████████████▌                                                                 | 38/197 [07:33<26:25,  9.97s/it]"
     ]
    },
    {
     "name": "stdout",
     "output_type": "stream",
     "text": [
      "First few elements of x:[('', 'CHAN GUEK CHENG', ''), ('', '', 'MICHELLE'), ('mailto:hengdatang@icloud.com', '', ''), ('', '', 'MICHELLE'), ('mailto:hengdatang@icloud.com', '', '')]\n"
     ]
    },
    {
     "name": "stderr",
     "output_type": "stream",
     "text": [
      " 20%|████████████████                                                                 | 39/197 [07:42<26:11,  9.95s/it]"
     ]
    },
    {
     "name": "stdout",
     "output_type": "stream",
     "text": [
      "First few elements of x:[('', 'WEE HONG NENG', ''), ('', '', 'DESMOND'), ('tel:91784208', '', ''), ('mailto:wee_des@yahoo.com.sg', '', ''), ('', '', 'DESMOND')]\n"
     ]
    },
    {
     "name": "stderr",
     "output_type": "stream",
     "text": [
      " 20%|████████████████▍                                                                | 40/197 [07:53<26:16, 10.04s/it]"
     ]
    },
    {
     "name": "stdout",
     "output_type": "stream",
     "text": [
      "First few elements of x:[('', 'HONG MEE LA', ''), ('', '', ''), ('tel:97614908', '', ''), ('mailto:meela.hong@gmail.com', '', ''), ('', '', '')]\n"
     ]
    },
    {
     "name": "stderr",
     "output_type": "stream",
     "text": [
      " 21%|████████████████▊                                                                | 41/197 [08:04<26:43, 10.28s/it]"
     ]
    },
    {
     "name": "stdout",
     "output_type": "stream",
     "text": [
      "First few elements of x:[('', 'Tan Ser Yeang', ''), ('', '', ''), ('tel:97656136', '', ''), ('mailto:alantansy@live.com', '', ''), ('', '', '')]\n"
     ]
    },
    {
     "name": "stderr",
     "output_type": "stream",
     "text": [
      " 21%|█████████████████▎                                                               | 42/197 [08:14<26:55, 10.42s/it]"
     ]
    },
    {
     "name": "stdout",
     "output_type": "stream",
     "text": [
      "First few elements of x:[('', 'TONG HOCK SOON', ''), ('', '', ''), ('tel:91662007', '', ''), ('mailto:t68kelvier@gmail.com', '', ''), ('', '', '')]\n"
     ]
    },
    {
     "name": "stderr",
     "output_type": "stream",
     "text": [
      " 22%|█████████████████▋                                                               | 43/197 [08:24<26:26, 10.30s/it]"
     ]
    },
    {
     "name": "stdout",
     "output_type": "stream",
     "text": [
      "First few elements of x:[('', 'Zhang Hongwang', ''), ('', '', ''), ('', '', ''), ('', 'CHAN YIN KHENG', ''), ('', '', 'JENNY')]\n"
     ]
    },
    {
     "name": "stderr",
     "output_type": "stream",
     "text": [
      " 22%|██████████████████                                                               | 44/197 [08:34<25:44, 10.10s/it]"
     ]
    },
    {
     "name": "stdout",
     "output_type": "stream",
     "text": [
      "First few elements of x:[('', 'Nyang Poh Chin', ''), ('', '', ''), ('tel:94527022', '', ''), ('', '', ''), ('tel:94527022', '', '')]\n"
     ]
    },
    {
     "name": "stderr",
     "output_type": "stream",
     "text": [
      " 23%|██████████████████▌                                                              | 45/197 [08:44<25:28, 10.06s/it]"
     ]
    },
    {
     "name": "stdout",
     "output_type": "stream",
     "text": [
      "First few elements of x:[('', 'KOK SIEW KWONG', ''), ('', '', ''), ('tel:97773721', '', ''), ('mailto:shalomtour@singnet.com.sg', '', ''), ('', '', '')]\n"
     ]
    },
    {
     "name": "stderr",
     "output_type": "stream",
     "text": [
      " 23%|██████████████████▉                                                              | 46/197 [08:53<24:44,  9.83s/it]"
     ]
    },
    {
     "name": "stdout",
     "output_type": "stream",
     "text": [
      "First few elements of x:[('', 'CHOI LU CY', ''), ('', '', ''), ('tel:97685524', '', ''), ('mailto:sing1549@icloud.com', '', ''), ('', '', '')]\n"
     ]
    },
    {
     "name": "stderr",
     "output_type": "stream",
     "text": [
      " 24%|███████████████████▎                                                             | 47/197 [09:03<24:33,  9.82s/it]"
     ]
    },
    {
     "name": "stdout",
     "output_type": "stream",
     "text": [
      "First few elements of x:[('', 'CHEN XI MING', ''), ('', '', ''), ('tel:94785118', '', ''), ('mailto:eng572001@hotmail.com', '', ''), ('', '', '')]\n"
     ]
    },
    {
     "name": "stderr",
     "output_type": "stream",
     "text": [
      " 24%|███████████████████▋                                                             | 48/197 [09:13<24:29,  9.86s/it]"
     ]
    },
    {
     "name": "stdout",
     "output_type": "stream",
     "text": [
      "First few elements of x:[('', 'Goh How Tong', ''), ('', '', ''), ('tel:90670372', '', ''), ('mailto:gohtomht@gmail.com', '', ''), ('', '', '')]\n"
     ]
    },
    {
     "name": "stderr",
     "output_type": "stream",
     "text": [
      " 25%|████████████████████▏                                                            | 49/197 [09:23<24:21,  9.88s/it]"
     ]
    },
    {
     "name": "stdout",
     "output_type": "stream",
     "text": [
      "First few elements of x:[('', 'EE TAN TIONG', ''), ('', '', ''), ('tel:98436139', '', ''), ('mailto:eettiong@yahoo.com.sg', '', ''), ('', '', '')]\n"
     ]
    },
    {
     "name": "stderr",
     "output_type": "stream",
     "text": [
      " 25%|████████████████████▌                                                            | 50/197 [09:33<24:16,  9.91s/it]"
     ]
    },
    {
     "name": "stdout",
     "output_type": "stream",
     "text": [
      "First few elements of x:[('', 'KUMARANA S/O PAKIRSAMY', ''), ('', '', ''), ('tel:90101210', '', ''), ('mailto:kumarana2010@hotmail.com', '', ''), ('', '', '')]\n"
     ]
    },
    {
     "name": "stderr",
     "output_type": "stream",
     "text": [
      " 26%|████████████████████▉                                                            | 51/197 [09:43<24:14,  9.96s/it]"
     ]
    },
    {
     "name": "stdout",
     "output_type": "stream",
     "text": [
      "First few elements of x:[('', 'QUEK LEE KIN', ''), ('', '', ''), ('mailto:kin2210@gmail.com', '', ''), ('', '', ''), ('mailto:kin2210@gmail.com', '', '')]\n"
     ]
    },
    {
     "name": "stderr",
     "output_type": "stream",
     "text": [
      " 26%|█████████████████████▍                                                           | 52/197 [09:53<24:03,  9.95s/it]"
     ]
    },
    {
     "name": "stdout",
     "output_type": "stream",
     "text": [
      "First few elements of x:[('', 'Lee Won Young', ''), ('', '', ''), ('tel:98340011', '', ''), ('mailto:2101969@daum.net', '', ''), ('', '', '')]\n"
     ]
    },
    {
     "name": "stderr",
     "output_type": "stream",
     "text": [
      " 27%|█████████████████████▊                                                           | 53/197 [10:03<23:46,  9.91s/it]"
     ]
    },
    {
     "name": "stdout",
     "output_type": "stream",
     "text": [
      "First few elements of x:[('', 'Loo Seok Lu', ''), ('', '', ''), ('tel:90263623', '', ''), ('mailto:eileenloo61@gmail.com', '', ''), ('', '', '')]\n"
     ]
    },
    {
     "name": "stderr",
     "output_type": "stream",
     "text": [
      " 27%|██████████████████████▏                                                          | 54/197 [10:13<23:35,  9.90s/it]"
     ]
    },
    {
     "name": "stdout",
     "output_type": "stream",
     "text": [
      "First few elements of x:[('', 'HOH WAN PENG', ''), ('', '', ''), ('tel:97579142', '', ''), ('mailto:natsubin@hotmail.com', '', ''), ('', '', '')]\n"
     ]
    },
    {
     "name": "stderr",
     "output_type": "stream",
     "text": [
      " 28%|██████████████████████▌                                                          | 55/197 [10:22<23:08,  9.78s/it]"
     ]
    },
    {
     "name": "stdout",
     "output_type": "stream",
     "text": [
      "First few elements of x:[('', 'LIM KWEK FAH', ''), ('', '', ''), ('tel:93837476', '', ''), ('mailto:limkwekfah@yahoo.com.sg', '', ''), ('', '', '')]\n"
     ]
    },
    {
     "name": "stderr",
     "output_type": "stream",
     "text": [
      " 28%|███████████████████████                                                          | 56/197 [10:38<27:20, 11.64s/it]"
     ]
    },
    {
     "name": "stdout",
     "output_type": "stream",
     "text": [
      "First few elements of x:[('', 'CHUA CHIA KIANG', ''), ('', '', ''), ('tel:96680580', '', ''), ('mailto:cck283g@gmail.com', '', ''), ('', '', '')]\n"
     ]
    },
    {
     "name": "stderr",
     "output_type": "stream",
     "text": [
      " 29%|███████████████████████▍                                                         | 57/197 [10:51<27:49, 11.92s/it]"
     ]
    },
    {
     "name": "stdout",
     "output_type": "stream",
     "text": [
      "First few elements of x:[('', 'MOK SWEE FONG', ''), ('', '', ''), ('tel:98225711', '', ''), ('mailto:sweefong235@gmail.com', '', ''), ('', '', '')]\n"
     ]
    },
    {
     "name": "stderr",
     "output_type": "stream",
     "text": [
      " 29%|███████████████████████▊                                                         | 58/197 [11:00<26:11, 11.31s/it]"
     ]
    },
    {
     "name": "stdout",
     "output_type": "stream",
     "text": [
      "First few elements of x:[('', 'Teo Woon Chye', ''), ('', '', ''), ('tel:96312646', '', ''), ('mailto:teoallan58@yahoo.com.sg', '', ''), ('', '', '')]\n"
     ]
    },
    {
     "name": "stderr",
     "output_type": "stream",
     "text": [
      " 30%|████████████████████████▎                                                        | 59/197 [11:10<24:35, 10.69s/it]"
     ]
    },
    {
     "name": "stdout",
     "output_type": "stream",
     "text": [
      "First few elements of x:[('', 'ZHANG HUI DAN', ''), ('', '', ''), ('tel:81250247', '', ''), ('mailto:huidanzhang@gmail.com', '', ''), ('', '', '')]\n"
     ]
    },
    {
     "name": "stderr",
     "output_type": "stream",
     "text": [
      " 30%|████████████████████████▋                                                        | 60/197 [11:19<23:33, 10.32s/it]"
     ]
    },
    {
     "name": "stdout",
     "output_type": "stream",
     "text": [
      "First few elements of x:[('', 'HENG SOO SIN', ''), ('', '', ''), ('tel:91011176', '', ''), ('mailto:grace.hengss@gmail.com', '', ''), ('', '', '')]\n"
     ]
    },
    {
     "name": "stderr",
     "output_type": "stream",
     "text": [
      " 31%|█████████████████████████                                                        | 61/197 [11:29<22:51, 10.08s/it]"
     ]
    },
    {
     "name": "stdout",
     "output_type": "stream",
     "text": [
      "First few elements of x:[('', 'LIU LU', ''), ('', '', ''), ('tel:91557211', '', ''), ('mailto:liulu571@gmail.com', '', ''), ('', '', '')]\n"
     ]
    },
    {
     "name": "stderr",
     "output_type": "stream",
     "text": [
      " 31%|█████████████████████████▍                                                       | 62/197 [11:39<22:42, 10.09s/it]"
     ]
    },
    {
     "name": "stdout",
     "output_type": "stream",
     "text": [
      "First few elements of x:[('', 'POH BEE POH JESSE', ''), ('', '', ''), ('tel:96383588', '', ''), ('mailto:jessepoh30@gmail.com', '', ''), ('', '', '')]\n"
     ]
    },
    {
     "name": "stderr",
     "output_type": "stream",
     "text": [
      " 32%|█████████████████████████▉                                                       | 63/197 [11:49<22:26, 10.05s/it]"
     ]
    },
    {
     "name": "stdout",
     "output_type": "stream",
     "text": [
      "First few elements of x:[('', 'GAN CHIN WEE', ''), ('', '', ''), ('tel:97710377', '', ''), ('mailto:alexgan0412@gmail.com', '', ''), ('', '', '')]\n"
     ]
    },
    {
     "name": "stderr",
     "output_type": "stream",
     "text": [
      " 32%|██████████████████████████▎                                                      | 64/197 [11:59<22:21, 10.09s/it]"
     ]
    },
    {
     "name": "stdout",
     "output_type": "stream",
     "text": [
      "First few elements of x:[('', 'CHAN YONG LAI', ''), ('', '', ''), ('tel:96840300', '', ''), ('mailto:CHANYONGLAI@YAHOO.COM.SG', '', ''), ('', '', '')]\n"
     ]
    },
    {
     "name": "stderr",
     "output_type": "stream",
     "text": [
      " 33%|██████████████████████████▋                                                      | 65/197 [12:09<22:12, 10.09s/it]"
     ]
    },
    {
     "name": "stdout",
     "output_type": "stream",
     "text": [
      "First few elements of x:[('', 'Zhang Hongwen', ''), ('', '', ''), ('tel:93874586', '', ''), ('mailto:hongwenz@gmail.COM', '', ''), ('', '', '')]\n"
     ]
    },
    {
     "name": "stderr",
     "output_type": "stream",
     "text": [
      " 34%|███████████████████████████▏                                                     | 66/197 [12:19<21:51, 10.01s/it]"
     ]
    },
    {
     "name": "stdout",
     "output_type": "stream",
     "text": [
      "First few elements of x:[('', 'HUI KOK LEONG', ''), ('', '', ''), ('tel:96777027', '', ''), ('mailto:rhys17a@yahoo.com.sg', '', ''), ('', '', '')]\n"
     ]
    },
    {
     "name": "stderr",
     "output_type": "stream",
     "text": [
      " 34%|███████████████████████████▌                                                     | 67/197 [12:29<21:47, 10.06s/it]"
     ]
    },
    {
     "name": "stdout",
     "output_type": "stream",
     "text": [
      "First few elements of x:[('', 'LI LIFEI', ''), ('', '', ''), ('tel:96878510', '', ''), ('mailto:blessedfee6@gmail.com', '', ''), ('', '', '')]\n"
     ]
    },
    {
     "name": "stderr",
     "output_type": "stream",
     "text": [
      " 35%|███████████████████████████▉                                                     | 68/197 [12:39<21:35, 10.04s/it]"
     ]
    },
    {
     "name": "stdout",
     "output_type": "stream",
     "text": [
      "First few elements of x:[('', 'LEE KEE HUAY', ''), ('', '', 'DORIS'), ('tel:98221152', '', ''), ('mailto:lkh_doris@yahoo.com', '', ''), ('', '', 'DORIS')]\n"
     ]
    },
    {
     "name": "stderr",
     "output_type": "stream",
     "text": [
      " 35%|████████████████████████████▎                                                    | 69/197 [12:49<21:23, 10.03s/it]"
     ]
    },
    {
     "name": "stdout",
     "output_type": "stream",
     "text": [
      "First few elements of x:[('', 'ONG KIA HUAT', ''), ('', '', ''), ('tel:96861823', '', ''), ('mailto:andrewoki@gmail.com', '', ''), ('', '', '')]\n"
     ]
    },
    {
     "name": "stderr",
     "output_type": "stream",
     "text": [
      " 36%|████████████████████████████▊                                                    | 70/197 [12:58<20:47,  9.82s/it]"
     ]
    },
    {
     "name": "stdout",
     "output_type": "stream",
     "text": [
      "First few elements of x:[('', 'XU BING', ''), ('', '', ''), ('tel:90084232', '', ''), ('mailto:xubingem@gmail.com', '', ''), ('', '', '')]\n"
     ]
    },
    {
     "name": "stderr",
     "output_type": "stream",
     "text": [
      " 36%|█████████████████████████████▏                                                   | 71/197 [13:08<20:22,  9.70s/it]"
     ]
    },
    {
     "name": "stdout",
     "output_type": "stream",
     "text": [
      "First few elements of x:[('', 'Wong Ban Yoong', ''), ('', '', ''), ('tel:96393511', '', ''), ('mailto:alexwongby@hotmail.com', '', ''), ('', '', '')]\n"
     ]
    },
    {
     "name": "stderr",
     "output_type": "stream",
     "text": [
      " 37%|█████████████████████████████▌                                                   | 72/197 [13:18<20:19,  9.76s/it]"
     ]
    },
    {
     "name": "stdout",
     "output_type": "stream",
     "text": [
      "First few elements of x:[('', 'Teo Yea Yeong', ''), ('', '', 'Hazel'), ('mailto:Hazelteo21@gmail.com', '', ''), ('', '', 'Hazel'), ('mailto:Hazelteo21@gmail.com', '', '')]\n"
     ]
    },
    {
     "name": "stderr",
     "output_type": "stream",
     "text": [
      " 37%|██████████████████████████████                                                   | 73/197 [13:27<20:00,  9.68s/it]"
     ]
    },
    {
     "name": "stdout",
     "output_type": "stream",
     "text": [
      "First few elements of x:[('', 'NASHIR S/O GHANEEM ERNEST BOUNAPARTE', ''), ('', '', ''), ('tel:97876191', '', ''), ('mailto:nashirbounaparte@yahoo.com.sg', '', ''), ('', '', '')]\n"
     ]
    },
    {
     "name": "stderr",
     "output_type": "stream",
     "text": [
      " 38%|██████████████████████████████▍                                                  | 74/197 [13:37<19:55,  9.72s/it]"
     ]
    },
    {
     "name": "stdout",
     "output_type": "stream",
     "text": [
      "First few elements of x:[('', 'SONG YUNYUN', ''), ('', '', ''), ('tel:91379175', '', ''), ('mailto:anita_syy@hotmail.com', '', ''), ('', '', '')]\n"
     ]
    },
    {
     "name": "stderr",
     "output_type": "stream",
     "text": [
      " 38%|██████████████████████████████▊                                                  | 75/197 [13:47<19:54,  9.79s/it]"
     ]
    },
    {
     "name": "stdout",
     "output_type": "stream",
     "text": [
      "First few elements of x:[('', 'LEE SEUNG YUN', ''), ('', '', ''), ('tel:88007080', '', ''), ('mailto:juliasylee@hotmail.com', '', ''), ('', '', '')]\n"
     ]
    },
    {
     "name": "stderr",
     "output_type": "stream",
     "text": [
      " 39%|███████████████████████████████▏                                                 | 76/197 [13:57<19:38,  9.74s/it]"
     ]
    },
    {
     "name": "stdout",
     "output_type": "stream",
     "text": [
      "First few elements of x:[('', 'CHOI JIN WHA', ''), ('', '', ''), ('tel:97994365', '', ''), ('mailto:choijwha@hanmail.net', '', ''), ('', '', '')]\n"
     ]
    },
    {
     "name": "stderr",
     "output_type": "stream",
     "text": [
      " 39%|███████████████████████████████▋                                                 | 77/197 [14:07<19:41,  9.84s/it]"
     ]
    },
    {
     "name": "stdout",
     "output_type": "stream",
     "text": [
      "First few elements of x:[('', 'MARINA SAYED GANY@BACHAAMAH SAYED GANY', ''), ('', '', ''), ('tel:97488750', '', ''), ('mailto:marinasingapore@hotmail.com', '', ''), ('', '', '')]\n"
     ]
    },
    {
     "name": "stderr",
     "output_type": "stream",
     "text": [
      " 40%|████████████████████████████████                                                 | 78/197 [14:17<19:35,  9.88s/it]"
     ]
    },
    {
     "name": "stdout",
     "output_type": "stream",
     "text": [
      "First few elements of x:[('', 'HUANG WEI', ''), ('', '', ''), ('tel:91715472', '', ''), ('mailto:wei.wei-huang@hotmail.com', '', ''), ('', '', '')]\n"
     ]
    },
    {
     "name": "stderr",
     "output_type": "stream",
     "text": [
      " 40%|████████████████████████████████▍                                                | 79/197 [14:27<19:31,  9.93s/it]"
     ]
    },
    {
     "name": "stdout",
     "output_type": "stream",
     "text": [
      "First few elements of x:[('', 'WONG MUI JUAN', ''), ('', '', ''), ('tel:92720268', '', ''), ('mailto:mui_juan@yahoo.com', '', ''), ('', '', '')]\n"
     ]
    },
    {
     "name": "stderr",
     "output_type": "stream",
     "text": [
      " 41%|████████████████████████████████▉                                                | 80/197 [14:37<19:39, 10.08s/it]"
     ]
    },
    {
     "name": "stdout",
     "output_type": "stream",
     "text": [
      "First few elements of x:[('', 'ZHOU YUNMEI', ''), ('', '', ''), ('tel:93379386', '', ''), ('mailto:jojozym@hotmail.com', '', ''), ('', '', '')]\n"
     ]
    },
    {
     "name": "stderr",
     "output_type": "stream",
     "text": [
      " 41%|█████████████████████████████████▎                                               | 81/197 [14:47<19:20, 10.00s/it]"
     ]
    },
    {
     "name": "stdout",
     "output_type": "stream",
     "text": [
      "First few elements of x:[('', 'KUNG WAN TUAN', ''), ('', '', ''), ('tel:86128659', '', ''), ('mailto:wantuan1722@hotmail.com', '', ''), ('', '', '')]\n"
     ]
    },
    {
     "name": "stderr",
     "output_type": "stream",
     "text": [
      " 42%|█████████████████████████████████▋                                               | 82/197 [14:56<18:50,  9.83s/it]"
     ]
    },
    {
     "name": "stdout",
     "output_type": "stream",
     "text": [
      "First few elements of x:[('', 'Liu Yang', ''), ('', '', ''), ('tel:98163746', '', ''), ('', '', ''), ('tel:98163746', '', '')]\n"
     ]
    },
    {
     "name": "stderr",
     "output_type": "stream",
     "text": [
      " 42%|██████████████████████████████████▏                                              | 83/197 [15:06<18:39,  9.82s/it]"
     ]
    },
    {
     "name": "stdout",
     "output_type": "stream",
     "text": [
      "First few elements of x:[('', 'ANG LAY KENG', ''), ('', '', ''), ('tel:96702721', '', ''), ('mailto:sgbuloh@outlook.com', '', ''), ('', '', '')]\n"
     ]
    },
    {
     "name": "stderr",
     "output_type": "stream",
     "text": [
      " 43%|██████████████████████████████████▌                                              | 84/197 [15:16<18:25,  9.78s/it]"
     ]
    },
    {
     "name": "stdout",
     "output_type": "stream",
     "text": [
      "First few elements of x:[('', 'KOH TECK CHUAN', ''), ('', '', ''), ('tel:97520726', '', ''), ('mailto:fastrack@singnet.com.sg', '', ''), ('', '', '')]\n"
     ]
    },
    {
     "name": "stderr",
     "output_type": "stream",
     "text": [
      " 43%|██████████████████████████████████▉                                              | 85/197 [15:26<18:20,  9.82s/it]"
     ]
    },
    {
     "name": "stdout",
     "output_type": "stream",
     "text": [
      "First few elements of x:[('', 'Wong Leong Jeam', ''), ('', '', ''), ('tel:87556912', '', ''), ('mailto:jeamwong@yahoo.com.sg', '', ''), ('', '', '')]\n"
     ]
    },
    {
     "name": "stderr",
     "output_type": "stream",
     "text": [
      " 44%|███████████████████████████████████▎                                             | 86/197 [15:36<18:31, 10.01s/it]"
     ]
    },
    {
     "name": "stdout",
     "output_type": "stream",
     "text": [
      "First few elements of x:[('', 'YEU WEE CHIN@YUE WEE MENG', ''), ('', '', ''), ('tel:93854496', '', ''), ('mailto:guide3227@gmail.com', '', ''), ('', '', '')]\n"
     ]
    },
    {
     "name": "stderr",
     "output_type": "stream",
     "text": [
      " 44%|███████████████████████████████████▊                                             | 87/197 [15:46<18:29, 10.08s/it]"
     ]
    },
    {
     "name": "stdout",
     "output_type": "stream",
     "text": [
      "First few elements of x:[('', 'Dong Yue', ''), ('', '', ''), ('tel:98518018', '', ''), ('mailto:dongyue66@hotmail.com', '', ''), ('', '', '')]\n"
     ]
    },
    {
     "name": "stderr",
     "output_type": "stream",
     "text": [
      " 45%|████████████████████████████████████▏                                            | 88/197 [15:59<19:41, 10.84s/it]"
     ]
    },
    {
     "name": "stdout",
     "output_type": "stream",
     "text": [
      "First few elements of x:[('', 'LIU WI MIN', ''), ('', '', ''), ('tel:97274029', '', ''), ('mailto:liuwimin61@gmail.com', '', ''), ('', '', '')]\n"
     ]
    },
    {
     "name": "stderr",
     "output_type": "stream",
     "text": [
      " 45%|████████████████████████████████████▌                                            | 89/197 [16:09<19:03, 10.59s/it]"
     ]
    },
    {
     "name": "stdout",
     "output_type": "stream",
     "text": [
      "First few elements of x:[('', 'Ava Gia Munaji Binte Salamat', ''), ('', '', ''), ('tel:87543904', '', ''), ('mailto:avasalamat@yahoo.com', '', ''), ('', '', '')]\n"
     ]
    },
    {
     "name": "stderr",
     "output_type": "stream",
     "text": [
      " 46%|█████████████████████████████████████                                            | 90/197 [16:20<18:54, 10.60s/it]"
     ]
    },
    {
     "name": "stdout",
     "output_type": "stream",
     "text": [
      "First few elements of x:[('', 'Xing Hong', ''), ('', '', ''), ('tel:93821588', '', ''), ('mailto:xh0131@gmail.com', '', ''), ('', '', '')]\n"
     ]
    },
    {
     "name": "stderr",
     "output_type": "stream",
     "text": [
      " 46%|█████████████████████████████████████▍                                           | 91/197 [16:29<18:00, 10.20s/it]"
     ]
    },
    {
     "name": "stdout",
     "output_type": "stream",
     "text": [
      "First few elements of x:[('', 'TAKAHASHI TARO', ''), ('', '', ''), ('tel:96744667', '', ''), ('mailto:taro2906@yahoo.com.sg', '', ''), ('', '', '')]\n"
     ]
    },
    {
     "name": "stderr",
     "output_type": "stream",
     "text": [
      " 47%|█████████████████████████████████████▊                                           | 92/197 [16:40<18:03, 10.32s/it]"
     ]
    },
    {
     "name": "stdout",
     "output_type": "stream",
     "text": [
      "First few elements of x:[('', 'TAN QIUYAN', ''), ('', '', ''), ('tel:94777754', '', ''), ('mailto:tqyrhb@hotmail.com', '', ''), ('', '', '')]\n"
     ]
    },
    {
     "name": "stderr",
     "output_type": "stream",
     "text": [
      " 47%|██████████████████████████████████████▏                                          | 93/197 [16:49<17:38, 10.18s/it]"
     ]
    },
    {
     "name": "stdout",
     "output_type": "stream",
     "text": [
      "First few elements of x:[('', 'Chai Hwee Tee', ''), ('', '', 'Alice chai'), ('tel:88754192', '', ''), ('mailto:chaiht3392@gmail.com', '', ''), ('', '', 'Alice chai')]\n"
     ]
    },
    {
     "name": "stderr",
     "output_type": "stream",
     "text": [
      " 48%|██████████████████████████████████████▋                                          | 94/197 [16:59<17:16, 10.06s/it]"
     ]
    },
    {
     "name": "stdout",
     "output_type": "stream",
     "text": [
      "First few elements of x:[('', 'Ambigapathi S/O Vienna Muthukumarasamy', ''), ('', '', 'Vienna'), ('tel:96204653', '', ''), ('mailto:vienna53@singnet.com.sg', '', ''), ('', '', 'Vienna')]\n"
     ]
    },
    {
     "name": "stderr",
     "output_type": "stream",
     "text": [
      " 48%|███████████████████████████████████████                                          | 95/197 [17:11<17:46, 10.46s/it]"
     ]
    },
    {
     "name": "stdout",
     "output_type": "stream",
     "text": [
      "First few elements of x:[('', 'Jiang Yali', ''), ('', '', ''), ('tel:96679185', '', ''), ('mailto:jiangyali2008@gmail.com', '', ''), ('', '', '')]\n"
     ]
    },
    {
     "name": "stderr",
     "output_type": "stream",
     "text": [
      " 49%|███████████████████████████████████████▍                                         | 96/197 [17:21<17:24, 10.34s/it]"
     ]
    },
    {
     "name": "stdout",
     "output_type": "stream",
     "text": [
      "First few elements of x:[('', 'Choy Pooi Cheng', ''), ('', '', ''), ('mailto:pooicheng@hotmail.com', '', ''), ('', '', ''), ('mailto:pooicheng@hotmail.com', '', '')]\n"
     ]
    },
    {
     "name": "stderr",
     "output_type": "stream",
     "text": [
      " 49%|███████████████████████████████████████▉                                         | 97/197 [17:31<17:06, 10.26s/it]"
     ]
    },
    {
     "name": "stdout",
     "output_type": "stream",
     "text": [
      "First few elements of x:[('', 'LI JING', ''), ('', '', ''), ('mailto:jiaoshouwu@gmail.com', '', ''), ('', '', ''), ('mailto:jiaoshouwu@gmail.com', '', '')]\n"
     ]
    },
    {
     "name": "stderr",
     "output_type": "stream",
     "text": [
      " 50%|████████████████████████████████████████▎                                        | 98/197 [17:40<16:29, 10.00s/it]"
     ]
    },
    {
     "name": "stdout",
     "output_type": "stream",
     "text": [
      "First few elements of x:[('', 'Zhu Lan', ''), ('', '', ''), ('tel:94598336', '', ''), ('mailto:angelbto@hotmail.com', '', ''), ('', '', '')]\n"
     ]
    },
    {
     "name": "stderr",
     "output_type": "stream",
     "text": [
      " 50%|████████████████████████████████████████▋                                        | 99/197 [17:50<16:24, 10.04s/it]"
     ]
    },
    {
     "name": "stdout",
     "output_type": "stream",
     "text": [
      "First few elements of x:[('', 'LI LIN', ''), ('', '', ''), ('tel:98975623', '', ''), ('mailto:1095110804@qq.com', '', ''), ('', '', '')]\n"
     ]
    },
    {
     "name": "stderr",
     "output_type": "stream",
     "text": [
      " 51%|████████████████████████████████████████▌                                       | 100/197 [17:59<15:50,  9.80s/it]"
     ]
    },
    {
     "name": "stdout",
     "output_type": "stream",
     "text": [
      "First few elements of x:[('', 'XU YIQUN', ''), ('', '', ''), ('tel:96988366', '', ''), ('mailto:xyq8366@hotmail.com', '', ''), ('', '', '')]\n"
     ]
    },
    {
     "name": "stderr",
     "output_type": "stream",
     "text": [
      " 51%|█████████████████████████████████████████                                       | 101/197 [18:09<15:46,  9.86s/it]"
     ]
    },
    {
     "name": "stdout",
     "output_type": "stream",
     "text": [
      "First few elements of x:[('', 'Goh Guek Eng', ''), ('', '', ''), ('tel:82376259', '', ''), ('mailto:reneegohguekeng@gmail.com', '', ''), ('', '', '')]\n"
     ]
    },
    {
     "name": "stderr",
     "output_type": "stream",
     "text": [
      " 52%|█████████████████████████████████████████▍                                      | 102/197 [18:18<15:00,  9.48s/it]"
     ]
    },
    {
     "name": "stdout",
     "output_type": "stream",
     "text": [
      "First few elements of x:[('', 'TAN CHUAN LAM', ''), ('', '', ''), ('tel:81139791', '', ''), ('mailto:chuanlamtan@yahoo.com.sg', '', ''), ('', '', '')]\n"
     ]
    },
    {
     "name": "stderr",
     "output_type": "stream",
     "text": [
      " 52%|█████████████████████████████████████████▊                                      | 103/197 [18:27<14:35,  9.31s/it]"
     ]
    },
    {
     "name": "stdout",
     "output_type": "stream",
     "text": [
      "First few elements of x:[('', 'Toh Siew Ngoh', ''), ('', '', 'Theresa'), ('mailto:theresat_1166@yahoo.com.sg', '', ''), ('', '', 'Theresa'), ('mailto:theresat_1166@yahoo.com.sg', '', '')]\n"
     ]
    },
    {
     "name": "stderr",
     "output_type": "stream",
     "text": [
      " 53%|██████████████████████████████████████████▏                                     | 104/197 [18:37<14:35,  9.42s/it]"
     ]
    },
    {
     "name": "stdout",
     "output_type": "stream",
     "text": [
      "First few elements of x:[('', 'SEAH POH SUAN', ''), ('', '', 'JESSIE'), ('tel:90301655', '', ''), ('mailto:seahjessie@yahoo.com.sg', '', ''), ('', '', 'JESSIE')]\n"
     ]
    },
    {
     "name": "stderr",
     "output_type": "stream",
     "text": [
      " 53%|██████████████████████████████████████████▋                                     | 105/197 [18:46<14:32,  9.49s/it]"
     ]
    },
    {
     "name": "stdout",
     "output_type": "stream",
     "text": [
      "First few elements of x:[('', 'YAP LI LAY', ''), ('', '', ''), ('tel:96770934', '', ''), ('mailto:lilayyap@yahoo.com.sg', '', ''), ('', '', '')]\n"
     ]
    },
    {
     "name": "stderr",
     "output_type": "stream",
     "text": [
      " 54%|███████████████████████████████████████████                                     | 106/197 [18:56<14:25,  9.51s/it]"
     ]
    },
    {
     "name": "stdout",
     "output_type": "stream",
     "text": [
      "First few elements of x:[('', 'MO JUAN', ''), ('', '', ''), ('tel:90252856', '', ''), ('mailto:kaiqi-yy@163.com', '', ''), ('', '', '')]\n"
     ]
    },
    {
     "name": "stderr",
     "output_type": "stream",
     "text": [
      " 54%|███████████████████████████████████████████▍                                    | 107/197 [19:06<14:29,  9.66s/it]"
     ]
    },
    {
     "name": "stdout",
     "output_type": "stream",
     "text": [
      "First few elements of x:[('', 'LEE PECK LIAN', ''), ('', '', ''), ('mailto:pecksgp@gmail.com', '', ''), ('', '', ''), ('mailto:pecksgp@gmail.com', '', '')]\n"
     ]
    },
    {
     "name": "stderr",
     "output_type": "stream",
     "text": [
      " 55%|███████████████████████████████████████████▊                                    | 108/197 [19:16<14:21,  9.68s/it]"
     ]
    },
    {
     "name": "stdout",
     "output_type": "stream",
     "text": [
      "First few elements of x:[('', 'WANG PING', ''), ('', '', ''), ('tel:94509368', '', ''), ('mailto:helenwang7472@gmail.com', '', ''), ('', '', '')]\n"
     ]
    },
    {
     "name": "stderr",
     "output_type": "stream",
     "text": [
      " 55%|████████████████████████████████████████████▎                                   | 109/197 [19:25<14:08,  9.64s/it]"
     ]
    },
    {
     "name": "stdout",
     "output_type": "stream",
     "text": [
      "First few elements of x:[('', 'LEE HWEE CHING', ''), ('', '', ''), ('tel:84848518', '', ''), ('mailto:lee_hwee_ching@hotmail.com', '', ''), ('', '', '')]\n"
     ]
    },
    {
     "name": "stderr",
     "output_type": "stream",
     "text": [
      " 56%|████████████████████████████████████████████▋                                   | 110/197 [19:35<14:02,  9.68s/it]"
     ]
    },
    {
     "name": "stdout",
     "output_type": "stream",
     "text": [
      "First few elements of x:[('', 'CHAN YONG CHOW', ''), ('', '', ''), ('tel:96463147', '', ''), ('mailto:brd.chanyc@gmail.com', '', ''), ('', '', '')]\n"
     ]
    },
    {
     "name": "stderr",
     "output_type": "stream",
     "text": [
      " 56%|█████████████████████████████████████████████                                   | 111/197 [19:45<13:56,  9.72s/it]"
     ]
    },
    {
     "name": "stdout",
     "output_type": "stream",
     "text": [
      "First few elements of x:[('', 'LIN JIANZE', ''), ('', '', ''), ('tel:98580345', '', ''), ('mailto:zelin0523@gmail.com', '', ''), ('', '', '')]\n"
     ]
    },
    {
     "name": "stderr",
     "output_type": "stream",
     "text": [
      " 57%|█████████████████████████████████████████████▍                                  | 112/197 [19:55<13:53,  9.81s/it]"
     ]
    },
    {
     "name": "stdout",
     "output_type": "stream",
     "text": [
      "First few elements of x:[('', 'LEW SIN KEONG PHILIP', ''), ('', '', ''), ('tel:98337705', '', ''), ('mailto:lewphilip@yahoo.com.sg', '', ''), ('', '', '')]\n"
     ]
    },
    {
     "name": "stderr",
     "output_type": "stream",
     "text": [
      " 57%|█████████████████████████████████████████████▉                                  | 113/197 [20:04<13:28,  9.63s/it]"
     ]
    },
    {
     "name": "stdout",
     "output_type": "stream",
     "text": [
      "First few elements of x:[('', 'TAN KOON GEK', ''), ('', '', ''), ('mailto:tankoongek@gmail.com', '', ''), ('', '', ''), ('mailto:tankoongek@gmail.com', '', '')]\n"
     ]
    },
    {
     "name": "stderr",
     "output_type": "stream",
     "text": [
      " 58%|██████████████████████████████████████████████▎                                 | 114/197 [20:14<13:27,  9.73s/it]"
     ]
    },
    {
     "name": "stdout",
     "output_type": "stream",
     "text": [
      "First few elements of x:[('', 'HENDRA WIJAYA', ''), ('', '', ''), ('tel:92705876', '', ''), ('mailto:hendra83@gmail.com', '', ''), ('', '', '')]\n"
     ]
    },
    {
     "name": "stderr",
     "output_type": "stream",
     "text": [
      " 58%|██████████████████████████████████████████████▋                                 | 115/197 [20:23<13:10,  9.64s/it]"
     ]
    },
    {
     "name": "stdout",
     "output_type": "stream",
     "text": [
      "First few elements of x:[('', 'TAN WUI WUI', ''), ('', '', ''), ('mailto:discover@journeys.com.sg', '', ''), ('', '', ''), ('mailto:discover@journeys.com.sg', '', '')]\n"
     ]
    },
    {
     "name": "stderr",
     "output_type": "stream",
     "text": [
      " 59%|███████████████████████████████████████████████                                 | 116/197 [20:34<13:19,  9.87s/it]"
     ]
    },
    {
     "name": "stdout",
     "output_type": "stream",
     "text": [
      "First few elements of x:[('', 'Leong Kim Kheong', ''), ('', '', ''), ('tel:81395279', '', ''), ('', '', ''), ('tel:81395279', '', '')]\n"
     ]
    },
    {
     "name": "stderr",
     "output_type": "stream",
     "text": [
      " 59%|███████████████████████████████████████████████▌                                | 117/197 [20:43<12:55,  9.69s/it]"
     ]
    },
    {
     "name": "stdout",
     "output_type": "stream",
     "text": [
      "First few elements of x:[('', 'Chan Lai Yoke', ''), ('', '', ''), ('tel:96317472', '', ''), ('mailto:laiyoke.chan@gmail.com', '', ''), ('', '', '')]\n"
     ]
    },
    {
     "name": "stderr",
     "output_type": "stream",
     "text": [
      " 60%|███████████████████████████████████████████████▉                                | 118/197 [20:53<12:51,  9.76s/it]"
     ]
    },
    {
     "name": "stdout",
     "output_type": "stream",
     "text": [
      "First few elements of x:[('', 'SU PEIHONG', ''), ('', '', ''), ('tel:91909959', '', ''), ('mailto:snschem.su@gmail.com', '', ''), ('', '', '')]\n"
     ]
    },
    {
     "name": "stderr",
     "output_type": "stream",
     "text": [
      " 60%|████████████████████████████████████████████████▎                               | 119/197 [21:04<13:08, 10.10s/it]"
     ]
    },
    {
     "name": "stdout",
     "output_type": "stream",
     "text": [
      "First few elements of x:[('', 'PNG ENG BIAN', ''), ('', '', ''), ('mailto:png2456@gmail.com', '', ''), ('', '', ''), ('mailto:png2456@gmail.com', '', '')]\n"
     ]
    },
    {
     "name": "stderr",
     "output_type": "stream",
     "text": [
      " 61%|████████████████████████████████████████████████▋                               | 120/197 [21:13<12:29,  9.74s/it]"
     ]
    },
    {
     "name": "stdout",
     "output_type": "stream",
     "text": [
      "First few elements of x:[('', 'LIM WUN CHAI', ''), ('', '', ''), ('tel:93899309', '', ''), ('mailto:kelvin_w_c_lim@yahoo.com.sg', '', ''), ('', '', '')]\n"
     ]
    },
    {
     "name": "stderr",
     "output_type": "stream",
     "text": [
      " 61%|█████████████████████████████████████████████████▏                              | 121/197 [21:22<12:12,  9.64s/it]"
     ]
    },
    {
     "name": "stdout",
     "output_type": "stream",
     "text": [
      "First few elements of x:[('', 'DYN TANG SOK YIN', ''), ('', '', ''), ('', '', ''), ('', 'TEO CHOON MENG', ''), ('', '', '')]\n"
     ]
    },
    {
     "name": "stderr",
     "output_type": "stream",
     "text": [
      " 62%|█████████████████████████████████████████████████▌                              | 122/197 [21:31<11:46,  9.42s/it]"
     ]
    },
    {
     "name": "stdout",
     "output_type": "stream",
     "text": [
      "First few elements of x:[('', 'ZHOU XI', ''), ('', '', ''), ('tel:98175333', '', ''), ('mailto:zhoucnsg@gmail.com', '', ''), ('', '', '')]\n"
     ]
    },
    {
     "name": "stderr",
     "output_type": "stream",
     "text": [
      " 62%|█████████████████████████████████████████████████▉                              | 123/197 [21:41<11:41,  9.48s/it]"
     ]
    },
    {
     "name": "stdout",
     "output_type": "stream",
     "text": [
      "First few elements of x:[('', 'PENG BO', ''), ('', '', ''), ('tel:91080367', '', ''), ('mailto:conniepengqt@yahoo.com.sg', '', ''), ('', '', '')]\n"
     ]
    },
    {
     "name": "stderr",
     "output_type": "stream",
     "text": [
      " 63%|██████████████████████████████████████████████████▎                             | 124/197 [21:50<11:38,  9.57s/it]"
     ]
    },
    {
     "name": "stdout",
     "output_type": "stream",
     "text": [
      "First few elements of x:[('', 'ELINA LIAO XIAOPING', ''), ('', '', ''), ('tel:94819307', '', ''), ('mailto:pet1201@sina.com', '', ''), ('', '', '')]\n"
     ]
    },
    {
     "name": "stderr",
     "output_type": "stream",
     "text": [
      " 63%|██████████████████████████████████████████████████▊                             | 125/197 [22:00<11:35,  9.66s/it]"
     ]
    },
    {
     "name": "stdout",
     "output_type": "stream",
     "text": [
      "First few elements of x:[('', 'YANG RUI', ''), ('', '', ''), ('tel:81330528', '', ''), ('mailto:yangrui80514@gmail.com', '', ''), ('', '', '')]\n"
     ]
    },
    {
     "name": "stderr",
     "output_type": "stream",
     "text": [
      " 64%|███████████████████████████████████████████████████▏                            | 126/197 [22:10<11:27,  9.68s/it]"
     ]
    },
    {
     "name": "stdout",
     "output_type": "stream",
     "text": [
      "First few elements of x:[('', 'LOU QI HONG', ''), ('', '', ''), ('tel:98801146', '', ''), ('mailto:louqihong1973@gmail.com', '', ''), ('', '', '')]\n"
     ]
    },
    {
     "name": "stderr",
     "output_type": "stream",
     "text": [
      " 64%|███████████████████████████████████████████████████▌                            | 127/197 [22:20<11:24,  9.78s/it]"
     ]
    },
    {
     "name": "stdout",
     "output_type": "stream",
     "text": [
      "First few elements of x:[('', 'ZHANG XUANHONG', ''), ('', '', ''), ('tel:82031688', '', ''), ('mailto:christyzxy@gmail.com', '', ''), ('', '', '')]\n"
     ]
    },
    {
     "name": "stderr",
     "output_type": "stream",
     "text": [
      " 65%|███████████████████████████████████████████████████▉                            | 128/197 [22:29<10:55,  9.50s/it]"
     ]
    },
    {
     "name": "stdout",
     "output_type": "stream",
     "text": [
      "First few elements of x:[('', 'Li Xiaokun', ''), ('', '', ''), ('tel:82990591', '', ''), ('mailto:audrey.lxk@gmail.com', '', ''), ('', '', '')]\n"
     ]
    },
    {
     "name": "stderr",
     "output_type": "stream",
     "text": [
      " 65%|████████████████████████████████████████████████████▍                           | 129/197 [22:38<10:38,  9.39s/it]"
     ]
    },
    {
     "name": "stdout",
     "output_type": "stream",
     "text": [
      "First few elements of x:[('', 'Zhang Guangfei', ''), ('', '', ''), ('tel:94507268', '', ''), ('mailto:guangfei618@163.com', '', ''), ('', '', '')]\n"
     ]
    },
    {
     "name": "stderr",
     "output_type": "stream",
     "text": [
      " 66%|████████████████████████████████████████████████████▊                           | 130/197 [22:48<10:39,  9.55s/it]"
     ]
    },
    {
     "name": "stdout",
     "output_type": "stream",
     "text": [
      "First few elements of x:[('', 'Chia Bee Lian', ''), ('', '', ''), ('tel:91136655', '', ''), ('mailto:chiabeelian@gmail.com', '', ''), ('', '', '')]\n"
     ]
    },
    {
     "name": "stderr",
     "output_type": "stream",
     "text": [
      " 66%|█████████████████████████████████████████████████████▏                          | 131/197 [22:58<10:39,  9.68s/it]"
     ]
    },
    {
     "name": "stdout",
     "output_type": "stream",
     "text": [
      "First few elements of x:[('', 'Luan Yanhua', ''), ('', '', ''), ('tel:87318966', '', ''), ('mailto:yanhua5797@hotmail.com', '', ''), ('', '', '')]\n"
     ]
    },
    {
     "name": "stderr",
     "output_type": "stream",
     "text": [
      " 67%|█████████████████████████████████████████████████████▌                          | 132/197 [23:09<10:51, 10.03s/it]"
     ]
    },
    {
     "name": "stdout",
     "output_type": "stream",
     "text": [
      "First few elements of x:[('', 'GOH LEY WAN', ''), ('', '', ''), ('tel:83886842', '', ''), ('mailto:sa.wingwinggoh@gmail.com', '', ''), ('', '', '')]\n"
     ]
    },
    {
     "name": "stderr",
     "output_type": "stream",
     "text": [
      " 68%|██████████████████████████████████████████████████████                          | 133/197 [23:19<10:38,  9.97s/it]"
     ]
    },
    {
     "name": "stdout",
     "output_type": "stream",
     "text": [
      "First few elements of x:[('', 'LIM LAY CHOO', ''), ('', '', ''), ('tel:94769969', '', ''), ('mailto:Lynnlim1102@gmail.com', '', ''), ('', '', '')]\n"
     ]
    },
    {
     "name": "stderr",
     "output_type": "stream",
     "text": [
      " 68%|██████████████████████████████████████████████████████▍                         | 134/197 [23:29<10:29,  9.99s/it]"
     ]
    },
    {
     "name": "stdout",
     "output_type": "stream",
     "text": [
      "First few elements of x:[('', 'WEI NA', ''), ('', '', ''), ('tel:97810843', '', ''), ('mailto:vina24217@gmail.com', '', ''), ('', '', '')]\n"
     ]
    },
    {
     "name": "stderr",
     "output_type": "stream",
     "text": [
      " 69%|██████████████████████████████████████████████████████▊                         | 135/197 [23:39<10:23, 10.06s/it]"
     ]
    },
    {
     "name": "stdout",
     "output_type": "stream",
     "text": [
      "First few elements of x:[('', 'Mohamad Sharul Bin Mustafa', ''), ('', '', ''), ('mailto:md_sharul_mustafa@yahoo.com.sg', '', ''), ('', '', ''), ('mailto:md_sharul_mustafa@yahoo.com.sg', '', '')]\n"
     ]
    },
    {
     "name": "stderr",
     "output_type": "stream",
     "text": [
      " 69%|███████████████████████████████████████████████████████▏                        | 136/197 [23:49<10:19, 10.16s/it]"
     ]
    },
    {
     "name": "stdout",
     "output_type": "stream",
     "text": [
      "First few elements of x:[('', 'ZHOU ZHENG', ''), ('', '', ''), ('tel:91680179', '', ''), ('mailto:zz122singapore@gmail.com', '', ''), ('', '', '')]\n"
     ]
    },
    {
     "name": "stderr",
     "output_type": "stream",
     "text": [
      " 70%|███████████████████████████████████████████████████████▋                        | 137/197 [23:59<09:59,  9.99s/it]"
     ]
    },
    {
     "name": "stdout",
     "output_type": "stream",
     "text": [
      "First few elements of x:[('', 'ZHENG SIHUI KAREN', ''), ('', '', ''), ('tel:97604873', '', ''), ('mailto:legends_of_the_fall_1113@hotmail.com', '', ''), ('', '', '')]\n"
     ]
    },
    {
     "name": "stderr",
     "output_type": "stream",
     "text": [
      " 70%|████████████████████████████████████████████████████████                        | 138/197 [24:09<09:44,  9.90s/it]"
     ]
    },
    {
     "name": "stdout",
     "output_type": "stream",
     "text": [
      "First few elements of x:[('', 'LYE PUI SAN', ''), ('', '', ''), ('tel:96493128', '', ''), ('mailto:b-3253@hotmail.com', '', ''), ('', '', '')]\n"
     ]
    },
    {
     "name": "stderr",
     "output_type": "stream",
     "text": [
      " 71%|████████████████████████████████████████████████████████▍                       | 139/197 [24:18<09:28,  9.80s/it]"
     ]
    },
    {
     "name": "stdout",
     "output_type": "stream",
     "text": [
      "First few elements of x:[('', 'Pang Peow Meng', ''), ('', '', 'Sam Pang'), ('tel:98202812', '', ''), ('mailto:sampangp@gmail.com', '', ''), ('', '', 'Sam Pang')]\n"
     ]
    },
    {
     "name": "stderr",
     "output_type": "stream",
     "text": [
      " 71%|████████████████████████████████████████████████████████▊                       | 140/197 [24:28<09:22,  9.87s/it]"
     ]
    },
    {
     "name": "stdout",
     "output_type": "stream",
     "text": [
      "First few elements of x:[('', 'Yee Shen Tet @fauzi Yee Abdullah', ''), ('', '', ''), ('tel:96688258', '', ''), ('mailto:yeeshentet@yahoo.com', '', ''), ('', '', '')]\n"
     ]
    },
    {
     "name": "stderr",
     "output_type": "stream",
     "text": [
      " 72%|█████████████████████████████████████████████████████████▎                      | 141/197 [24:38<09:15,  9.92s/it]"
     ]
    },
    {
     "name": "stdout",
     "output_type": "stream",
     "text": [
      "First few elements of x:[('', 'LUO ZHENMEI', ''), ('', '', ''), ('tel:86868100', '', ''), ('mailto:ttluozm@gmail.com', '', ''), ('', '', '')]\n"
     ]
    },
    {
     "name": "stderr",
     "output_type": "stream",
     "text": [
      " 72%|█████████████████████████████████████████████████████████▋                      | 142/197 [24:48<08:56,  9.76s/it]"
     ]
    },
    {
     "name": "stdout",
     "output_type": "stream",
     "text": [
      "First few elements of x:[('', 'ZHANG RUI', ''), ('', '', ''), ('tel:98395172', '', ''), ('mailto:gracezhang988@gmail.com', '', ''), ('', '', '')]\n"
     ]
    },
    {
     "name": "stderr",
     "output_type": "stream",
     "text": [
      " 73%|██████████████████████████████████████████████████████████                      | 143/197 [24:58<08:52,  9.86s/it]"
     ]
    },
    {
     "name": "stdout",
     "output_type": "stream",
     "text": [
      "First few elements of x:[('', 'Teo Yee Ling', ''), ('', '', ''), ('mailto:YEELYN@HOTMAIL.COM', '', ''), ('', '', ''), ('mailto:YEELYN@HOTMAIL.COM', '', '')]\n"
     ]
    },
    {
     "name": "stderr",
     "output_type": "stream",
     "text": [
      " 73%|██████████████████████████████████████████████████████████▍                     | 144/197 [25:08<08:43,  9.88s/it]"
     ]
    },
    {
     "name": "stdout",
     "output_type": "stream",
     "text": [
      "First few elements of x:[('', 'IVANOVA IRINA', ''), ('', '', ''), ('tel:84539963', '', ''), ('mailto:ivi.2910@gmail.com', '', ''), ('', '', '')]\n"
     ]
    },
    {
     "name": "stderr",
     "output_type": "stream",
     "text": [
      " 74%|██████████████████████████████████████████████████████████▉                     | 145/197 [25:18<08:41, 10.03s/it]"
     ]
    },
    {
     "name": "stdout",
     "output_type": "stream",
     "text": [
      "First few elements of x:[('', 'KARLSEN BERIT AGNES@BIBI ZAHARAH', ''), ('', '', ''), ('tel:98264410', '', ''), ('mailto:Bibimirs@singnet.com.sg', '', ''), ('', '', '')]\n"
     ]
    },
    {
     "name": "stderr",
     "output_type": "stream",
     "text": [
      " 74%|███████████████████████████████████████████████████████████▎                    | 146/197 [25:28<08:30, 10.01s/it]"
     ]
    },
    {
     "name": "stdout",
     "output_type": "stream",
     "text": [
      "First few elements of x:[('', 'NG GEOK TEE', ''), ('', '', ''), ('tel:98759916', '', ''), ('mailto:dorisng98@yahoo.com.sg', '', ''), ('', '', '')]\n"
     ]
    },
    {
     "name": "stderr",
     "output_type": "stream",
     "text": [
      " 75%|███████████████████████████████████████████████████████████▋                    | 147/197 [25:38<08:14,  9.90s/it]"
     ]
    },
    {
     "name": "stdout",
     "output_type": "stream",
     "text": [
      "First few elements of x:[('', 'CHAN WAN SIONG', ''), ('', '', ''), ('tel:90035489', '', ''), ('mailto:Jason_Chan9180@yahoo.com', '', ''), ('', '', '')]\n"
     ]
    },
    {
     "name": "stderr",
     "output_type": "stream",
     "text": [
      " 75%|████████████████████████████████████████████████████████████                    | 148/197 [25:48<08:07,  9.95s/it]"
     ]
    },
    {
     "name": "stdout",
     "output_type": "stream",
     "text": [
      "First few elements of x:[('', 'MU XIAOHONG', ''), ('', '', ''), ('tel:81288578', '', ''), ('mailto:ivy_xiaohong10@hotmail.com', '', ''), ('', '', '')]\n"
     ]
    },
    {
     "name": "stderr",
     "output_type": "stream",
     "text": [
      " 76%|████████████████████████████████████████████████████████████▌                   | 149/197 [25:57<07:53,  9.87s/it]"
     ]
    },
    {
     "name": "stdout",
     "output_type": "stream",
     "text": [
      "First few elements of x:[('', 'WANG XINPENG', ''), ('', '', ''), ('tel:91862140', '', ''), ('mailto:wangxinpeng99@hotmail.com', '', ''), ('', '', '')]\n"
     ]
    },
    {
     "name": "stderr",
     "output_type": "stream",
     "text": [
      " 76%|████████████████████████████████████████████████████████████▉                   | 150/197 [26:06<07:33,  9.64s/it]"
     ]
    },
    {
     "name": "stdout",
     "output_type": "stream",
     "text": [
      "First few elements of x:[('', 'Luo Rui', ''), ('', '', ''), ('tel:93386598', '', ''), ('mailto:ruirui.1231@yahoo.com.sg', '', ''), ('', '', '')]\n"
     ]
    },
    {
     "name": "stderr",
     "output_type": "stream",
     "text": [
      " 77%|█████████████████████████████████████████████████████████████▎                  | 151/197 [26:20<08:15, 10.78s/it]"
     ]
    },
    {
     "name": "stdout",
     "output_type": "stream",
     "text": [
      "First few elements of x:[('', 'TANG PING WENG', ''), ('', '', ''), ('tel:97887188', '', ''), ('mailto:jeronmalissa@hotmail.com', '', ''), ('', '', '')]\n"
     ]
    },
    {
     "name": "stderr",
     "output_type": "stream",
     "text": [
      " 77%|█████████████████████████████████████████████████████████████▋                  | 152/197 [26:34<08:48, 11.75s/it]"
     ]
    },
    {
     "name": "stdout",
     "output_type": "stream",
     "text": [
      "First few elements of x:[('', 'ZAW WIN AUNG', ''), ('', '', 'David'), ('tel:90211051', '', ''), ('mailto:sgmmguide@gmail.com', '', ''), ('', '', 'David')]\n"
     ]
    },
    {
     "name": "stderr",
     "output_type": "stream",
     "text": [
      " 78%|██████████████████████████████████████████████████████████████▏                 | 153/197 [26:43<08:00, 10.93s/it]"
     ]
    },
    {
     "name": "stdout",
     "output_type": "stream",
     "text": [
      "First few elements of x:[('', 'ZHONG HUA', ''), ('', '', ''), ('tel:98414823', '', ''), ('mailto:zhonghua7@hotmail.com', '', ''), ('', '', '')]\n"
     ]
    },
    {
     "name": "stderr",
     "output_type": "stream",
     "text": [
      " 78%|██████████████████████████████████████████████████████████████▌                 | 154/197 [26:52<07:30, 10.47s/it]"
     ]
    },
    {
     "name": "stdout",
     "output_type": "stream",
     "text": [
      "First few elements of x:[('', 'CHOI FOONG YEE', ''), ('', '', ''), ('tel:91065123', '', ''), ('mailto:nickychoi2002@yahoo.com.sg', '', ''), ('', '', '')]\n"
     ]
    },
    {
     "name": "stderr",
     "output_type": "stream",
     "text": [
      " 79%|██████████████████████████████████████████████████████████████▉                 | 155/197 [27:03<07:19, 10.47s/it]"
     ]
    },
    {
     "name": "stdout",
     "output_type": "stream",
     "text": [
      "First few elements of x:[('', 'Foo Min San Stanley', ''), ('', '', 'Stanley Foo'), ('tel:97296699', '', ''), ('mailto:stanleyfoo@live.com.sg', '', ''), ('', '', 'Stanley Foo')]\n"
     ]
    },
    {
     "name": "stderr",
     "output_type": "stream",
     "text": [
      " 79%|███████████████████████████████████████████████████████████████▎                | 156/197 [27:13<07:05, 10.37s/it]"
     ]
    },
    {
     "name": "stdout",
     "output_type": "stream",
     "text": [
      "First few elements of x:[('', 'TAIM OON CHEW', ''), ('', '', 'Michael Philip'), ('tel:90082827', '', ''), ('mailto:philiptaimoc@gmail.com', '', ''), ('', '', 'Michael Philip')]\n"
     ]
    },
    {
     "name": "stderr",
     "output_type": "stream",
     "text": [
      " 80%|███████████████████████████████████████████████████████████████▊                | 157/197 [27:23<06:55, 10.38s/it]"
     ]
    },
    {
     "name": "stdout",
     "output_type": "stream",
     "text": [
      "First few elements of x:[('', 'Koh Gaik Joo Margaret', ''), ('', '', ''), ('', '', ''), ('', 'Huang Yiwen', ''), ('', '', 'Emmie')]\n"
     ]
    },
    {
     "name": "stderr",
     "output_type": "stream",
     "text": [
      " 80%|████████████████████████████████████████████████████████████████▏               | 158/197 [27:33<06:40, 10.27s/it]"
     ]
    },
    {
     "name": "stdout",
     "output_type": "stream",
     "text": [
      "First few elements of x:[('', 'Kwon Yun Suk', ''), ('', '', 'Julie'), ('tel:96186874', '', ''), ('mailto:juliet.yunsuk@gmail.com', '', ''), ('', '', 'Julie')]\n"
     ]
    },
    {
     "name": "stderr",
     "output_type": "stream",
     "text": [
      " 81%|████████████████████████████████████████████████████████████████▌               | 159/197 [27:43<06:22, 10.07s/it]"
     ]
    },
    {
     "name": "stdout",
     "output_type": "stream",
     "text": [
      "First few elements of x:[('', 'Phua Ai Lian', ''), ('', '', 'Kristie Phua'), ('tel:96197348', '', ''), ('mailto:kristie_phua@yahoo.com', '', ''), ('', '', 'Kristie Phua')]\n"
     ]
    },
    {
     "name": "stderr",
     "output_type": "stream",
     "text": [
      " 81%|████████████████████████████████████████████████████████████████▉               | 160/197 [27:53<06:08,  9.96s/it]"
     ]
    },
    {
     "name": "stdout",
     "output_type": "stream",
     "text": [
      "First few elements of x:[('', 'Peh Tiong Hong', ''), ('', '', 'Matthew'), ('tel:96399133', '', ''), ('mailto:matthew.peh@gmail.com', '', ''), ('', '', 'Matthew')]\n"
     ]
    },
    {
     "name": "stderr",
     "output_type": "stream",
     "text": [
      " 82%|█████████████████████████████████████████████████████████████████▍              | 161/197 [28:03<06:05, 10.15s/it]"
     ]
    },
    {
     "name": "stdout",
     "output_type": "stream",
     "text": [
      "First few elements of x:[('', 'Seah Boon Kian', ''), ('', '', 'Jane Seah 谢文娟'), ('mailto:seah_jane@yahoo.com.sg', '', ''), ('', '', 'Jane Seah 谢文娟'), ('mailto:seah_jane@yahoo.com.sg', '', '')]\n"
     ]
    },
    {
     "name": "stderr",
     "output_type": "stream",
     "text": [
      " 82%|█████████████████████████████████████████████████████████████████▊              | 162/197 [28:13<05:54, 10.13s/it]"
     ]
    },
    {
     "name": "stdout",
     "output_type": "stream",
     "text": [
      "First few elements of x:[('', 'Wang YiBo', ''), ('', '', ''), ('tel:96406488', '', ''), ('mailto:bill_yibo@hotmail.com', '', ''), ('', '', '')]\n"
     ]
    },
    {
     "name": "stderr",
     "output_type": "stream",
     "text": [
      " 83%|██████████████████████████████████████████████████████████████████▏             | 163/197 [28:22<05:34,  9.84s/it]"
     ]
    },
    {
     "name": "stdout",
     "output_type": "stream",
     "text": [
      "First few elements of x:[('', 'TANG XIAOQIN', ''), ('', '', ''), ('mailto:tangxiaoqinisme@gmail.com', '', ''), ('', '', ''), ('mailto:tangxiaoqinisme@gmail.com', '', '')]\n"
     ]
    },
    {
     "name": "stderr",
     "output_type": "stream",
     "text": [
      " 83%|██████████████████████████████████████████████████████████████████▌             | 164/197 [28:32<05:24,  9.83s/it]"
     ]
    },
    {
     "name": "stdout",
     "output_type": "stream",
     "text": [
      "First few elements of x:[('', 'Leong Jit Loong Alvin', ''), ('', '', ''), ('mailto:alvin.leong.singapore@gmail.com', '', ''), ('', '', ''), ('mailto:alvin.leong.singapore@gmail.com', '', '')]\n"
     ]
    },
    {
     "name": "stderr",
     "output_type": "stream",
     "text": [
      " 84%|███████████████████████████████████████████████████████████████████             | 165/197 [28:44<05:29, 10.31s/it]"
     ]
    },
    {
     "name": "stdout",
     "output_type": "stream",
     "text": [
      "First few elements of x:[('', 'TAN SIEW CHENG', ''), ('', '', 'JANE'), ('tel:96670782', '', ''), ('mailto:OHYESJANE@GMAIL.COM', '', ''), ('', '', 'JANE')]\n"
     ]
    },
    {
     "name": "stderr",
     "output_type": "stream",
     "text": [
      " 84%|███████████████████████████████████████████████████████████████████▍            | 166/197 [28:54<05:18, 10.29s/it]"
     ]
    },
    {
     "name": "stdout",
     "output_type": "stream",
     "text": [
      "First few elements of x:[('', 'Zhong Zhina', ''), ('', '', ''), ('mailto:zhongzhina@yahoo.com.sg', '', ''), ('', '', ''), ('mailto:zhongzhina@yahoo.com.sg', '', '')]\n"
     ]
    },
    {
     "name": "stderr",
     "output_type": "stream",
     "text": [
      " 85%|███████████████████████████████████████████████████████████████████▊            | 167/197 [29:04<05:10, 10.34s/it]"
     ]
    },
    {
     "name": "stdout",
     "output_type": "stream",
     "text": [
      "First few elements of x:[('', 'Chen Weihong', ''), ('', '', ''), ('tel:81836066', '', ''), ('mailto:CHENWH2007@HOTMAIL.COM', '', ''), ('', '', '')]\n"
     ]
    },
    {
     "name": "stderr",
     "output_type": "stream",
     "text": [
      " 85%|████████████████████████████████████████████████████████████████████▏           | 168/197 [29:14<04:53, 10.14s/it]"
     ]
    },
    {
     "name": "stdout",
     "output_type": "stream",
     "text": [
      "First few elements of x:[('', 'NURHANA BTE JAMALUDIN', ''), ('', '', 'Han'), ('tel:91551337', '', ''), ('mailto:peleda1909@gmail.com', '', ''), ('', '', 'Han')]\n"
     ]
    },
    {
     "name": "stderr",
     "output_type": "stream",
     "text": [
      " 86%|████████████████████████████████████████████████████████████████████▋           | 169/197 [29:28<05:13, 11.21s/it]"
     ]
    },
    {
     "name": "stdout",
     "output_type": "stream",
     "text": [
      "First few elements of x:[('', 'ZHANG YIQI ZANN', ''), ('', '', ''), ('tel:83396844', '', ''), ('mailto:yiqizann@gmail.com', '', ''), ('', '', '')]\n"
     ]
    },
    {
     "name": "stderr",
     "output_type": "stream",
     "text": [
      " 86%|█████████████████████████████████████████████████████████████████████           | 170/197 [29:37<04:48, 10.70s/it]"
     ]
    },
    {
     "name": "stdout",
     "output_type": "stream",
     "text": [
      "First few elements of x:[('', 'SHAO YISU', ''), ('', '', ''), ('tel:82980925', '', ''), ('mailto:shaoyisu2@gmail.com', '', ''), ('', '', '')]\n"
     ]
    },
    {
     "name": "stderr",
     "output_type": "stream",
     "text": [
      " 87%|█████████████████████████████████████████████████████████████████████▍          | 171/197 [29:47<04:34, 10.54s/it]"
     ]
    },
    {
     "name": "stdout",
     "output_type": "stream",
     "text": [
      "First few elements of x:[('', 'TAY CHOON MONG LESLIE', ''), ('', '', ''), ('tel:96922486', '', ''), ('mailto:leslie.tay@gmail.com', '', ''), ('', '', '')]\n"
     ]
    },
    {
     "name": "stderr",
     "output_type": "stream",
     "text": [
      " 87%|█████████████████████████████████████████████████████████████████████▊          | 172/197 [29:58<04:20, 10.43s/it]"
     ]
    },
    {
     "name": "stdout",
     "output_type": "stream",
     "text": [
      "First few elements of x:[('', 'Xiang Hongyan', ''), ('', '', ''), ('tel:90044499', '', ''), ('mailto:joanna.xiang@yahoo.com', '', ''), ('', '', '')]\n"
     ]
    },
    {
     "name": "stderr",
     "output_type": "stream",
     "text": [
      " 88%|██████████████████████████████████████████████████████████████████████▎         | 173/197 [30:07<04:04, 10.19s/it]"
     ]
    },
    {
     "name": "stdout",
     "output_type": "stream",
     "text": [
      "First few elements of x:[('', 'BAI YUNFENG', ''), ('', '', ''), ('mailto:oliver.bai.yf@gmail.com', '', ''), ('', '', ''), ('mailto:oliver.bai.yf@gmail.com', '', '')]\n"
     ]
    },
    {
     "name": "stderr",
     "output_type": "stream",
     "text": [
      " 88%|██████████████████████████████████████████████████████████████████████▋         | 174/197 [30:17<03:52, 10.13s/it]"
     ]
    },
    {
     "name": "stdout",
     "output_type": "stream",
     "text": [
      "First few elements of x:[('', 'TAN BIAN HWEE', ''), ('', '', ''), ('tel:98248627', '', ''), ('mailto:biantan@yahoo.com', '', ''), ('', '', '')]\n"
     ]
    },
    {
     "name": "stderr",
     "output_type": "stream",
     "text": [
      " 89%|███████████████████████████████████████████████████████████████████████         | 175/197 [30:27<03:38,  9.93s/it]"
     ]
    },
    {
     "name": "stdout",
     "output_type": "stream",
     "text": [
      "First few elements of x:[('', 'LU JIAYU', ''), ('', '', ''), ('tel:83086011', '', ''), ('mailto:JIAYU.NICOLE@GMAIL.COM', '', ''), ('', '', '')]\n"
     ]
    },
    {
     "name": "stderr",
     "output_type": "stream",
     "text": [
      " 89%|███████████████████████████████████████████████████████████████████████▍        | 176/197 [30:37<03:27,  9.89s/it]"
     ]
    },
    {
     "name": "stdout",
     "output_type": "stream",
     "text": [
      "First few elements of x:[('', 'LEE KOK LEONG RICHARD', ''), ('', '', ''), ('tel:96838239', '', ''), ('mailto:rleekl@gmail.com', '', ''), ('', '', '')]\n"
     ]
    },
    {
     "name": "stderr",
     "output_type": "stream",
     "text": [
      " 90%|███████████████████████████████████████████████████████████████████████▉        | 177/197 [30:47<03:20, 10.03s/it]"
     ]
    },
    {
     "name": "stdout",
     "output_type": "stream",
     "text": [
      "First few elements of x:[('', 'SIM MUI HUA SERINA', ''), ('', '', ''), ('tel:90936104', '', ''), ('mailto:nanasim1980@gmail.com', '', ''), ('', '', '')]\n"
     ]
    },
    {
     "name": "stderr",
     "output_type": "stream",
     "text": [
      " 90%|████████████████████████████████████████████████████████████████████████▎       | 178/197 [30:56<03:07,  9.88s/it]"
     ]
    },
    {
     "name": "stdout",
     "output_type": "stream",
     "text": [
      "First few elements of x:[('', 'zhang tianhui', ''), ('', '', ''), ('tel:91822205', '', ''), ('mailto:iceicehuihui@gmail.com', '', ''), ('', '', '')]\n"
     ]
    },
    {
     "name": "stderr",
     "output_type": "stream",
     "text": [
      " 91%|████████████████████████████████████████████████████████████████████████▋       | 179/197 [31:06<02:58,  9.94s/it]"
     ]
    },
    {
     "name": "stdout",
     "output_type": "stream",
     "text": [
      "First few elements of x:[('', 'You Wanlin', ''), ('', '', ''), ('tel:91050568', '', ''), ('mailto:wanlin89218@gmail.com', '', ''), ('', '', '')]\n"
     ]
    },
    {
     "name": "stderr",
     "output_type": "stream",
     "text": [
      " 91%|█████████████████████████████████████████████████████████████████████████       | 180/197 [31:16<02:48,  9.93s/it]"
     ]
    },
    {
     "name": "stdout",
     "output_type": "stream",
     "text": [
      "First few elements of x:[('', 'Xu Jian', ''), ('', '', ''), ('tel:97235678', '', ''), ('mailto:SHEENDA.AGENCY@GMAIL.COM', '', ''), ('', '', '')]\n"
     ]
    },
    {
     "name": "stderr",
     "output_type": "stream",
     "text": [
      " 92%|█████████████████████████████████████████████████████████████████████████▌      | 181/197 [31:29<02:51, 10.72s/it]"
     ]
    },
    {
     "name": "stdout",
     "output_type": "stream",
     "text": [
      "First few elements of x:[('', 'Yao Yanxia', ''), ('', '', ''), ('tel:91680926', '', ''), ('mailto:wdmysun@qq.com', '', ''), ('', '', '')]\n"
     ]
    },
    {
     "name": "stderr",
     "output_type": "stream",
     "text": [
      " 92%|█████████████████████████████████████████████████████████████████████████▉      | 182/197 [31:39<02:36, 10.44s/it]"
     ]
    },
    {
     "name": "stdout",
     "output_type": "stream",
     "text": [
      "First few elements of x:[('', 'Xu Yuzhuo', ''), ('', '', ''), ('tel:82515177', '', ''), ('mailto:TERRANCEXYZ@GMAIL.COM', '', ''), ('', '', '')]\n"
     ]
    },
    {
     "name": "stderr",
     "output_type": "stream",
     "text": [
      " 93%|██████████████████████████████████████████████████████████████████████████▎     | 183/197 [31:49<02:24, 10.31s/it]"
     ]
    },
    {
     "name": "stdout",
     "output_type": "stream",
     "text": [
      "First few elements of x:[('', 'Tay Yong Cheng, John', ''), ('', '', ''), ('tel:96558682', '', ''), ('mailto:HELLO@JOHNTYC.COM', '', ''), ('', '', '')]\n"
     ]
    },
    {
     "name": "stderr",
     "output_type": "stream",
     "text": [
      " 93%|██████████████████████████████████████████████████████████████████████████▋     | 184/197 [31:59<02:12, 10.22s/it]"
     ]
    },
    {
     "name": "stdout",
     "output_type": "stream",
     "text": [
      "First few elements of x:[('', 'Geng Junying', ''), ('', '', ''), ('mailto:LEOBROTH@GMAIL.COM', '', ''), ('', '', ''), ('mailto:LEOBROTH@GMAIL.COM', '', '')]\n"
     ]
    },
    {
     "name": "stderr",
     "output_type": "stream",
     "text": [
      " 94%|███████████████████████████████████████████████████████████████████████████▏    | 185/197 [32:09<02:02, 10.18s/it]"
     ]
    },
    {
     "name": "stdout",
     "output_type": "stream",
     "text": [
      "First few elements of x:[('', 'Chan Khai Yoon', ''), ('', '', ''), ('tel:96280826', '', ''), ('mailto:markcky@yahoo.com.sg', '', ''), ('', '', '')]\n"
     ]
    },
    {
     "name": "stderr",
     "output_type": "stream",
     "text": [
      " 94%|███████████████████████████████████████████████████████████████████████████▌    | 186/197 [32:19<01:51, 10.10s/it]"
     ]
    },
    {
     "name": "stdout",
     "output_type": "stream",
     "text": [
      "First few elements of x:[('', 'SEO EUN KYO', ''), ('', '', ''), ('tel:98289480', '', ''), ('', '', ''), ('tel:98289480', '', '')]\n"
     ]
    },
    {
     "name": "stderr",
     "output_type": "stream",
     "text": [
      " 95%|███████████████████████████████████████████████████████████████████████████▉    | 187/197 [32:29<01:41, 10.13s/it]"
     ]
    },
    {
     "name": "stdout",
     "output_type": "stream",
     "text": [
      "First few elements of x:[('', 'Jin Chao', ''), ('', '', ''), ('tel:90061365', '', ''), ('mailto:jinchao8703@gmail.com', '', ''), ('', '', '')]\n"
     ]
    },
    {
     "name": "stderr",
     "output_type": "stream",
     "text": [
      " 95%|████████████████████████████████████████████████████████████████████████████▎   | 188/197 [32:39<01:31, 10.13s/it]"
     ]
    },
    {
     "name": "stdout",
     "output_type": "stream",
     "text": [
      "First few elements of x:[('', 'Wang Li', ''), ('', '', ''), ('tel:83235523', '', ''), ('mailto:BAGEWANG@GMAIL.COM', '', ''), ('', '', '')]\n"
     ]
    },
    {
     "name": "stderr",
     "output_type": "stream",
     "text": [
      " 96%|████████████████████████████████████████████████████████████████████████████▊   | 189/197 [32:49<01:19,  9.92s/it]"
     ]
    },
    {
     "name": "stdout",
     "output_type": "stream",
     "text": [
      "First few elements of x:[('', 'Guo Biqing', ''), ('', '', 'Elena'), ('tel:97291628', '', ''), ('mailto:biqing.19@hotmail.com', '', ''), ('', '', 'Elena')]\n"
     ]
    },
    {
     "name": "stderr",
     "output_type": "stream",
     "text": [
      " 96%|█████████████████████████████████████████████████████████████████████████████▏  | 190/197 [32:58<01:08,  9.82s/it]"
     ]
    },
    {
     "name": "stdout",
     "output_type": "stream",
     "text": [
      "First few elements of x:[('', 'Wang Xiaoping', ''), ('', '', ''), ('tel:96419296', '', ''), ('mailto:huaxin_001@yahoo.com.sg', '', ''), ('', '', '')]\n"
     ]
    },
    {
     "name": "stderr",
     "output_type": "stream",
     "text": [
      " 97%|█████████████████████████████████████████████████████████████████████████████▌  | 191/197 [33:08<00:59,  9.95s/it]"
     ]
    },
    {
     "name": "stdout",
     "output_type": "stream",
     "text": [
      "First few elements of x:[('', 'SUN HAENG JIN', ''), ('', '', ''), ('tel:86687914', '', ''), ('mailto:sun5897@gmail.com', '', ''), ('', '', '')]\n"
     ]
    },
    {
     "name": "stderr",
     "output_type": "stream",
     "text": [
      " 97%|█████████████████████████████████████████████████████████████████████████████▉  | 192/197 [33:18<00:49,  9.91s/it]"
     ]
    },
    {
     "name": "stdout",
     "output_type": "stream",
     "text": [
      "First few elements of x:[('', 'Low Mei Kwee', ''), ('', '', 'Jeslyn'), ('mailto:jazzy727@hotmail.com', '', ''), ('', '', 'Jeslyn'), ('mailto:jazzy727@hotmail.com', '', '')]\n"
     ]
    },
    {
     "name": "stderr",
     "output_type": "stream",
     "text": [
      " 98%|██████████████████████████████████████████████████████████████████████████████▍ | 193/197 [33:28<00:39,  9.98s/it]"
     ]
    },
    {
     "name": "stdout",
     "output_type": "stream",
     "text": [
      "First few elements of x:[('', 'Quek Xiu Zhi Winfred', ''), ('', '', ''), ('tel:90176326', '', ''), ('mailto:winfredggv@gmail.com', '', ''), ('', '', '')]\n"
     ]
    },
    {
     "name": "stderr",
     "output_type": "stream",
     "text": [
      " 98%|██████████████████████████████████████████████████████████████████████████████▊ | 194/197 [33:39<00:30, 10.07s/it]"
     ]
    },
    {
     "name": "stdout",
     "output_type": "stream",
     "text": [
      "First few elements of x:[('', 'Cheyenne Phillips', ''), ('', '', ''), ('tel:90997401', '', ''), ('mailto:cheyennealexandriaphillips@gmail.com', '', ''), ('', '', '')]\n"
     ]
    },
    {
     "name": "stderr",
     "output_type": "stream",
     "text": [
      " 99%|███████████████████████████████████████████████████████████████████████████████▏| 195/197 [33:49<00:20, 10.04s/it]"
     ]
    },
    {
     "name": "stdout",
     "output_type": "stream",
     "text": [
      "First few elements of x:[('', 'Tee Bee Lock', ''), ('', '', 'Christine'), ('tel:98512358', '', ''), ('mailto:christinebl.tee@yahoo.com', '', ''), ('', '', 'Christine')]\n"
     ]
    },
    {
     "name": "stderr",
     "output_type": "stream",
     "text": [
      " 99%|███████████████████████████████████████████████████████████████████████████████▌| 196/197 [33:58<00:09,  9.91s/it]"
     ]
    },
    {
     "name": "stdout",
     "output_type": "stream",
     "text": [
      "First few elements of x:[('', 'Sun Tingting', ''), ('', '', ''), ('tel:82244112', '', ''), ('mailto:SUNTINGTING612@163.COM', '', ''), ('', '', '')]\n"
     ]
    },
    {
     "name": "stderr",
     "output_type": "stream",
     "text": [
      "100%|████████████████████████████████████████████████████████████████████████████████| 197/197 [34:08<00:00, 10.40s/it]"
     ]
    },
    {
     "name": "stdout",
     "output_type": "stream",
     "text": [
      "First few elements of x:[('', 'Zhang Junjuan', ''), ('', '', ''), ('tel:86930599', '', ''), ('mailto:junjuanzhang@gmail.com', '', ''), ('', '', '')]\n"
     ]
    },
    {
     "name": "stderr",
     "output_type": "stream",
     "text": [
      "\n"
     ]
    }
   ],
   "source": [
    "contact_list = []\n",
    "for pgno in tqdm(range(2962//15)): # Total entries//no. entries per pages\n",
    "    try:\n",
    "        url = f'https://trust.stb.gov.sg/site/content/tagaem/landing-page/tourist-guide.html?curIndex={pgno}' # Generate page url\n",
    "        driver = webdriver.Firefox() # Open a new Firefox window. Requires gecko driver, see: https://selenium-python.readthedocs.io/installation.html\n",
    "        driver.get(url) # Makes window go to the specified url\n",
    "        html_doc = driver.page_source # Get the page source from the page.\n",
    "        driver.close() # Close the Firefox window\n",
    "        contact_list.extend(get_contact_list(html_doc)) # Extract names from page source\n",
    "    except:\n",
    "        print(f'Error in page {pgno}, moving on...') # Should not normally happen.\n",
    "        continue\n",
    "pd.DataFrame(contact_list).to_csv('stb-contact-details.csv')"
   ]
  },
  {
   "cell_type": "markdown",
   "metadata": {},
   "source": [
    "# Generate all question text"
   ]
  },
  {
   "cell_type": "code",
   "execution_count": 17,
   "metadata": {},
   "outputs": [
    {
     "name": "stdout",
     "output_type": "stream",
     "text": [
      "Q1)(a)(i) Considering public open spaces (e.g. streets, squares, parks, etc.) in the Central Area (also known as the \"Central Business District (CBD)\") of Singapore, where do you experience the soundscape to be the most full of life and exciting? Please drag the marker on the map to that location (zoom in/out if needed). Please do not choose a location that you have never visited or passed by on foot before.\n",
      "\n",
      "Q1)(a)(ii) Coordinates of your chosen location (please do not change these values; they will update when you drag the marker on the map):\n",
      "\n",
      "Q1)(a)(iii) Please explain and elaborate on your choice of location in Q1)(a)(i). For example, you can indicate the typical time and day of the week, etc. that you find the location to have a soundscape that is full of life and exciting.\n",
      "\n",
      "Q1)(a)(iv) How often do you visit your chosen location in Q1)(a)(i), or pass by it on foot?\n",
      "\n",
      "Q1)(a)(v) How many times have you visited your chosen location in Q1)(a)(i), or passed by it on foot? If you selected anything other than \"Less often than once a year\" for Q1)(a)(iv), then you should have visited your chosen location 10 or more times.\n",
      "\n",
      "Q1)(b)(i) Considering public open spaces (e.g. streets, squares, parks, etc.) in the Central Area (also known as the \"Central Business District (CBD)\") of Singapore, where do you experience the soundscape to be the most chaotic and restless? Please drag the marker on the map to that location (zoom in/out if needed). Please do not choose a location that you have never visited or passed by on foot before.\n",
      "\n",
      "Q1)(b)(ii) Coordinates of your chosen location (please do not change these values; they will update when you drag the marker on the map):\n",
      "\n",
      "Q1)(b)(iii) Please explain and elaborate on your choice of location in Q1)(b)(i). For example, you can indicate the typical time and day of the week, etc. that you find the location to have a soundscape that is chaotic and restless.\n",
      "\n",
      "Q1)(b)(iv) How often do you visit your chosen location in Q1)(b)(i), or pass by it on foot?\n",
      "\n",
      "Q1)(b)(v) How many times have you visited your chosen location in Q1)(b)(i), or passed by it on foot? If you selected anything other than \"Less often than once a year\" for Q1)(b)(iv), then you should have visited your chosen location 10 or more times.\n",
      "\n",
      "Q1)(c)(i) Considering public open spaces (e.g. streets, squares, parks, etc.) in the Central Area (also known as the \"Central Business District (CBD)\") of Singapore, where do you experience the soundscape to be the most calm and tranquil? Please drag the marker on the map to that location (zoom in/out if needed). Please do not choose a location that you have never visited or passed by on foot before.\n",
      "\n",
      "Q1)(c)(ii) Coordinates of your chosen location (please do not change these values; they will update when you drag the marker on the map):\n",
      "\n",
      "Q1)(c)(iii) Please explain and elaborate on your choice of location in Q1)(c)(i). For example, you can indicate the typical time and day of the week, etc. that you find the location to have a soundscape that is calm and tranquil.\n",
      "\n",
      "Q1)(c)(iv) How often do you visit your chosen location in Q1)(c)(i), or pass by it on foot?\n",
      "\n",
      "Q1)(c)(v) How many times have you visited your chosen location in Q1)(c)(i), or passed by it on foot? If you selected anything other than \"Less often than once a year\" for Q1)(c)(iv), then you should have visited your chosen location 10 or more times.\n",
      "\n",
      "Q1)(d)(i) Considering public open spaces (e.g. streets, squares, parks, etc.) in the Central Area (also known as the \"Central Business District (CBD)\") of Singapore, where do you experience the soundscape to be the most lifeless and boring? Please drag the marker on the map to that location (zoom in/out if needed). Please do not choose a location that you have never visited or passed by on foot before.\n",
      "\n",
      "Q1)(d)(ii) Coordinates of your chosen location (please do not change these values; they will update when you drag the marker on the map):\n",
      "\n",
      "Q1)(d)(iii) Please explain and elaborate on your choice of location in Q1)(d)(i). For example, you can indicate the typical time and day of the week, etc. that you find the location to have a soundscape that is lifeless and boring.\n",
      "\n",
      "Q1)(d)(iv) How often do you visit your chosen location in Q1)(d)(i), or pass by it on foot?\n",
      "\n",
      "Q1)(d)(v) How many times have you visited your chosen location in Q1)(d)(i), or passed by it on foot? If you selected anything other than \"Less often than once a year\" for Q1)(d)(iv), then you should have visited your chosen location 10 or more times.\n",
      "\n",
      "Q2)(a)(i) Considering public open spaces (e.g. streets, squares, parks, etc.) in the East Region of Singapore, where do you experience the soundscape to be the most full of life and exciting? Please drag the marker on the map to that location (zoom in/out if needed). Please do not choose a location that you have never visited or passed by on foot before.\n",
      "\n",
      "Q2)(a)(ii) Coordinates of your chosen location (please do not change these values; they will update when you drag the marker on the map):\n",
      "\n",
      "Q2)(a)(iii) Please explain and elaborate on your choice of location in Q2)(a)(i). For example, you can indicate the typical time and day of the week, etc. that you find the location to have a soundscape that is full of life and exciting.\n",
      "\n",
      "Q2)(a)(iv) How often do you visit your chosen location in Q2)(a)(i), or pass by it on foot?\n",
      "\n",
      "Q2)(a)(v) How many times have you visited your chosen location in Q2)(a)(i), or passed by it on foot? If you selected anything other than \"Less often than once a year\" for Q2)(a)(iv), then you should have visited your chosen location 10 or more times.\n",
      "\n",
      "Q2)(b)(i) Considering public open spaces (e.g. streets, squares, parks, etc.) in the East Region of Singapore, where do you experience the soundscape to be the most chaotic and restless? Please drag the marker on the map to that location (zoom in/out if needed). Please do not choose a location that you have never visited or passed by on foot before.\n",
      "\n",
      "Q2)(b)(ii) Coordinates of your chosen location (please do not change these values; they will update when you drag the marker on the map):\n",
      "\n",
      "Q2)(b)(iii) Please explain and elaborate on your choice of location in Q2)(b)(i). For example, you can indicate the typical time and day of the week, etc. that you find the location to have a soundscape that is chaotic and restless.\n",
      "\n",
      "Q2)(b)(iv) How often do you visit your chosen location in Q2)(b)(i), or pass by it on foot?\n",
      "\n",
      "Q2)(b)(v) How many times have you visited your chosen location in Q2)(b)(i), or passed by it on foot? If you selected anything other than \"Less often than once a year\" for Q2)(b)(iv), then you should have visited your chosen location 10 or more times.\n",
      "\n",
      "Q2)(c)(i) Considering public open spaces (e.g. streets, squares, parks, etc.) in the East Region of Singapore, where do you experience the soundscape to be the most calm and tranquil? Please drag the marker on the map to that location (zoom in/out if needed). Please do not choose a location that you have never visited or passed by on foot before.\n",
      "\n",
      "Q2)(c)(ii) Coordinates of your chosen location (please do not change these values; they will update when you drag the marker on the map):\n",
      "\n",
      "Q2)(c)(iii) Please explain and elaborate on your choice of location in Q2)(c)(i). For example, you can indicate the typical time and day of the week, etc. that you find the location to have a soundscape that is calm and tranquil.\n",
      "\n",
      "Q2)(c)(iv) How often do you visit your chosen location in Q2)(c)(i), or pass by it on foot?\n",
      "\n",
      "Q2)(c)(v) How many times have you visited your chosen location in Q2)(c)(i), or passed by it on foot? If you selected anything other than \"Less often than once a year\" for Q2)(c)(iv), then you should have visited your chosen location 10 or more times.\n",
      "\n",
      "Q2)(d)(i) Considering public open spaces (e.g. streets, squares, parks, etc.) in the East Region of Singapore, where do you experience the soundscape to be the most lifeless and boring? Please drag the marker on the map to that location (zoom in/out if needed). Please do not choose a location that you have never visited or passed by on foot before.\n",
      "\n",
      "Q2)(d)(ii) Coordinates of your chosen location (please do not change these values; they will update when you drag the marker on the map):\n",
      "\n",
      "Q2)(d)(iii) Please explain and elaborate on your choice of location in Q2)(d)(i). For example, you can indicate the typical time and day of the week, etc. that you find the location to have a soundscape that is lifeless and boring.\n",
      "\n",
      "Q2)(d)(iv) How often do you visit your chosen location in Q2)(d)(i), or pass by it on foot?\n",
      "\n",
      "Q2)(d)(v) How many times have you visited your chosen location in Q2)(d)(i), or passed by it on foot? If you selected anything other than \"Less often than once a year\" for Q2)(d)(iv), then you should have visited your chosen location 10 or more times.\n",
      "\n",
      "Q3)(a)(i) Considering public open spaces (e.g. streets, squares, parks, etc.) in the Central Region of Singapore, where do you experience the soundscape to be the most full of life and exciting? Please drag the marker on the map to that location (zoom in/out if needed). Please do not choose a location that you have never visited or passed by on foot before.\n",
      "\n",
      "Q3)(a)(ii) Coordinates of your chosen location (please do not change these values; they will update when you drag the marker on the map):\n",
      "\n",
      "Q3)(a)(iii) Please explain and elaborate on your choice of location in Q3)(a)(i). For example, you can indicate the typical time and day of the week, etc. that you find the location to have a soundscape that is full of life and exciting.\n",
      "\n",
      "Q3)(a)(iv) How often do you visit your chosen location in Q3)(a)(i), or pass by it on foot?\n",
      "\n",
      "Q3)(a)(v) How many times have you visited your chosen location in Q3)(a)(i), or passed by it on foot? If you selected anything other than \"Less often than once a year\" for Q3)(a)(iv), then you should have visited your chosen location 10 or more times.\n",
      "\n",
      "Q3)(b)(i) Considering public open spaces (e.g. streets, squares, parks, etc.) in the Central Region of Singapore, where do you experience the soundscape to be the most chaotic and restless? Please drag the marker on the map to that location (zoom in/out if needed). Please do not choose a location that you have never visited or passed by on foot before.\n",
      "\n",
      "Q3)(b)(ii) Coordinates of your chosen location (please do not change these values; they will update when you drag the marker on the map):\n",
      "\n",
      "Q3)(b)(iii) Please explain and elaborate on your choice of location in Q3)(b)(i). For example, you can indicate the typical time and day of the week, etc. that you find the location to have a soundscape that is chaotic and restless.\n",
      "\n",
      "Q3)(b)(iv) How often do you visit your chosen location in Q3)(b)(i), or pass by it on foot?\n",
      "\n",
      "Q3)(b)(v) How many times have you visited your chosen location in Q3)(b)(i), or passed by it on foot? If you selected anything other than \"Less often than once a year\" for Q3)(b)(iv), then you should have visited your chosen location 10 or more times.\n",
      "\n",
      "Q3)(c)(i) Considering public open spaces (e.g. streets, squares, parks, etc.) in the Central Region of Singapore, where do you experience the soundscape to be the most calm and tranquil? Please drag the marker on the map to that location (zoom in/out if needed). Please do not choose a location that you have never visited or passed by on foot before.\n",
      "\n",
      "Q3)(c)(ii) Coordinates of your chosen location (please do not change these values; they will update when you drag the marker on the map):\n",
      "\n",
      "Q3)(c)(iii) Please explain and elaborate on your choice of location in Q3)(c)(i). For example, you can indicate the typical time and day of the week, etc. that you find the location to have a soundscape that is calm and tranquil.\n",
      "\n",
      "Q3)(c)(iv) How often do you visit your chosen location in Q3)(c)(i), or pass by it on foot?\n",
      "\n",
      "Q3)(c)(v) How many times have you visited your chosen location in Q3)(c)(i), or passed by it on foot? If you selected anything other than \"Less often than once a year\" for Q3)(c)(iv), then you should have visited your chosen location 10 or more times.\n",
      "\n",
      "Q3)(d)(i) Considering public open spaces (e.g. streets, squares, parks, etc.) in the Central Region of Singapore, where do you experience the soundscape to be the most lifeless and boring? Please drag the marker on the map to that location (zoom in/out if needed). Please do not choose a location that you have never visited or passed by on foot before.\n",
      "\n",
      "Q3)(d)(ii) Coordinates of your chosen location (please do not change these values; they will update when you drag the marker on the map):\n",
      "\n",
      "Q3)(d)(iii) Please explain and elaborate on your choice of location in Q3)(d)(i). For example, you can indicate the typical time and day of the week, etc. that you find the location to have a soundscape that is lifeless and boring.\n",
      "\n",
      "Q3)(d)(iv) How often do you visit your chosen location in Q3)(d)(i), or pass by it on foot?\n",
      "\n",
      "Q3)(d)(v) How many times have you visited your chosen location in Q3)(d)(i), or passed by it on foot? If you selected anything other than \"Less often than once a year\" for Q3)(d)(iv), then you should have visited your chosen location 10 or more times.\n",
      "\n",
      "Q4)(a)(i) Considering public open spaces (e.g. streets, squares, parks, etc.) in the North Region of Singapore, where do you experience the soundscape to be the most full of life and exciting? Please drag the marker on the map to that location (zoom in/out if needed). Please do not choose a location that you have never visited or passed by on foot before.\n",
      "\n",
      "Q4)(a)(ii) Coordinates of your chosen location (please do not change these values; they will update when you drag the marker on the map):\n",
      "\n",
      "Q4)(a)(iii) Please explain and elaborate on your choice of location in Q4)(a)(i). For example, you can indicate the typical time and day of the week, etc. that you find the location to have a soundscape that is full of life and exciting.\n",
      "\n",
      "Q4)(a)(iv) How often do you visit your chosen location in Q4)(a)(i), or pass by it on foot?\n",
      "\n",
      "Q4)(a)(v) How many times have you visited your chosen location in Q4)(a)(i), or passed by it on foot? If you selected anything other than \"Less often than once a year\" for Q4)(a)(iv), then you should have visited your chosen location 10 or more times.\n",
      "\n",
      "Q4)(b)(i) Considering public open spaces (e.g. streets, squares, parks, etc.) in the North Region of Singapore, where do you experience the soundscape to be the most chaotic and restless? Please drag the marker on the map to that location (zoom in/out if needed). Please do not choose a location that you have never visited or passed by on foot before.\n",
      "\n",
      "Q4)(b)(ii) Coordinates of your chosen location (please do not change these values; they will update when you drag the marker on the map):\n",
      "\n",
      "Q4)(b)(iii) Please explain and elaborate on your choice of location in Q4)(b)(i). For example, you can indicate the typical time and day of the week, etc. that you find the location to have a soundscape that is chaotic and restless.\n",
      "\n",
      "Q4)(b)(iv) How often do you visit your chosen location in Q4)(b)(i), or pass by it on foot?\n",
      "\n",
      "Q4)(b)(v) How many times have you visited your chosen location in Q4)(b)(i), or passed by it on foot? If you selected anything other than \"Less often than once a year\" for Q4)(b)(iv), then you should have visited your chosen location 10 or more times.\n",
      "\n",
      "Q4)(c)(i) Considering public open spaces (e.g. streets, squares, parks, etc.) in the North Region of Singapore, where do you experience the soundscape to be the most calm and tranquil? Please drag the marker on the map to that location (zoom in/out if needed). Please do not choose a location that you have never visited or passed by on foot before.\n",
      "\n",
      "Q4)(c)(ii) Coordinates of your chosen location (please do not change these values; they will update when you drag the marker on the map):\n",
      "\n",
      "Q4)(c)(iii) Please explain and elaborate on your choice of location in Q4)(c)(i). For example, you can indicate the typical time and day of the week, etc. that you find the location to have a soundscape that is calm and tranquil.\n",
      "\n",
      "Q4)(c)(iv) How often do you visit your chosen location in Q4)(c)(i), or pass by it on foot?\n",
      "\n",
      "Q4)(c)(v) How many times have you visited your chosen location in Q4)(c)(i), or passed by it on foot? If you selected anything other than \"Less often than once a year\" for Q4)(c)(iv), then you should have visited your chosen location 10 or more times.\n",
      "\n",
      "Q4)(d)(i) Considering public open spaces (e.g. streets, squares, parks, etc.) in the North Region of Singapore, where do you experience the soundscape to be the most lifeless and boring? Please drag the marker on the map to that location (zoom in/out if needed). Please do not choose a location that you have never visited or passed by on foot before.\n",
      "\n",
      "Q4)(d)(ii) Coordinates of your chosen location (please do not change these values; they will update when you drag the marker on the map):\n",
      "\n",
      "Q4)(d)(iii) Please explain and elaborate on your choice of location in Q4)(d)(i). For example, you can indicate the typical time and day of the week, etc. that you find the location to have a soundscape that is lifeless and boring.\n",
      "\n",
      "Q4)(d)(iv) How often do you visit your chosen location in Q4)(d)(i), or pass by it on foot?\n",
      "\n",
      "Q4)(d)(v) How many times have you visited your chosen location in Q4)(d)(i), or passed by it on foot? If you selected anything other than \"Less often than once a year\" for Q4)(d)(iv), then you should have visited your chosen location 10 or more times.\n",
      "\n",
      "Q5)(a)(i) Considering public open spaces (e.g. streets, squares, parks, etc.) in the North-east Region of Singapore, where do you experience the soundscape to be the most full of life and exciting? Please drag the marker on the map to that location (zoom in/out if needed). Please do not choose a location that you have never visited or passed by on foot before.\n",
      "\n",
      "Q5)(a)(ii) Coordinates of your chosen location (please do not change these values; they will update when you drag the marker on the map):\n",
      "\n",
      "Q5)(a)(iii) Please explain and elaborate on your choice of location in Q5)(a)(i). For example, you can indicate the typical time and day of the week, etc. that you find the location to have a soundscape that is full of life and exciting.\n",
      "\n",
      "Q5)(a)(iv) How often do you visit your chosen location in Q5)(a)(i), or pass by it on foot?\n",
      "\n",
      "Q5)(a)(v) How many times have you visited your chosen location in Q5)(a)(i), or passed by it on foot? If you selected anything other than \"Less often than once a year\" for Q5)(a)(iv), then you should have visited your chosen location 10 or more times.\n",
      "\n",
      "Q5)(b)(i) Considering public open spaces (e.g. streets, squares, parks, etc.) in the North-east Region of Singapore, where do you experience the soundscape to be the most chaotic and restless? Please drag the marker on the map to that location (zoom in/out if needed). Please do not choose a location that you have never visited or passed by on foot before.\n",
      "\n",
      "Q5)(b)(ii) Coordinates of your chosen location (please do not change these values; they will update when you drag the marker on the map):\n",
      "\n",
      "Q5)(b)(iii) Please explain and elaborate on your choice of location in Q5)(b)(i). For example, you can indicate the typical time and day of the week, etc. that you find the location to have a soundscape that is chaotic and restless.\n",
      "\n",
      "Q5)(b)(iv) How often do you visit your chosen location in Q5)(b)(i), or pass by it on foot?\n",
      "\n",
      "Q5)(b)(v) How many times have you visited your chosen location in Q5)(b)(i), or passed by it on foot? If you selected anything other than \"Less often than once a year\" for Q5)(b)(iv), then you should have visited your chosen location 10 or more times.\n",
      "\n",
      "Q5)(c)(i) Considering public open spaces (e.g. streets, squares, parks, etc.) in the North-east Region of Singapore, where do you experience the soundscape to be the most calm and tranquil? Please drag the marker on the map to that location (zoom in/out if needed). Please do not choose a location that you have never visited or passed by on foot before.\n",
      "\n",
      "Q5)(c)(ii) Coordinates of your chosen location (please do not change these values; they will update when you drag the marker on the map):\n",
      "\n",
      "Q5)(c)(iii) Please explain and elaborate on your choice of location in Q5)(c)(i). For example, you can indicate the typical time and day of the week, etc. that you find the location to have a soundscape that is calm and tranquil.\n",
      "\n",
      "Q5)(c)(iv) How often do you visit your chosen location in Q5)(c)(i), or pass by it on foot?\n",
      "\n",
      "Q5)(c)(v) How many times have you visited your chosen location in Q5)(c)(i), or passed by it on foot? If you selected anything other than \"Less often than once a year\" for Q5)(c)(iv), then you should have visited your chosen location 10 or more times.\n",
      "\n",
      "Q5)(d)(i) Considering public open spaces (e.g. streets, squares, parks, etc.) in the North-east Region of Singapore, where do you experience the soundscape to be the most lifeless and boring? Please drag the marker on the map to that location (zoom in/out if needed). Please do not choose a location that you have never visited or passed by on foot before.\n",
      "\n",
      "Q5)(d)(ii) Coordinates of your chosen location (please do not change these values; they will update when you drag the marker on the map):\n",
      "\n",
      "Q5)(d)(iii) Please explain and elaborate on your choice of location in Q5)(d)(i). For example, you can indicate the typical time and day of the week, etc. that you find the location to have a soundscape that is lifeless and boring.\n",
      "\n",
      "Q5)(d)(iv) How often do you visit your chosen location in Q5)(d)(i), or pass by it on foot?\n",
      "\n",
      "Q5)(d)(v) How many times have you visited your chosen location in Q5)(d)(i), or passed by it on foot? If you selected anything other than \"Less often than once a year\" for Q5)(d)(iv), then you should have visited your chosen location 10 or more times.\n",
      "\n",
      "Q6)(a)(i) Considering public open spaces (e.g. streets, squares, parks, etc.) in the West Region of Singapore, where do you experience the soundscape to be the most full of life and exciting? Please drag the marker on the map to that location (zoom in/out if needed). Please do not choose a location that you have never visited or passed by on foot before.\n",
      "\n",
      "Q6)(a)(ii) Coordinates of your chosen location (please do not change these values; they will update when you drag the marker on the map):\n",
      "\n",
      "Q6)(a)(iii) Please explain and elaborate on your choice of location in Q6)(a)(i). For example, you can indicate the typical time and day of the week, etc. that you find the location to have a soundscape that is full of life and exciting.\n",
      "\n",
      "Q6)(a)(iv) How often do you visit your chosen location in Q6)(a)(i), or pass by it on foot?\n",
      "\n",
      "Q6)(a)(v) How many times have you visited your chosen location in Q6)(a)(i), or passed by it on foot? If you selected anything other than \"Less often than once a year\" for Q6)(a)(iv), then you should have visited your chosen location 10 or more times.\n",
      "\n",
      "Q6)(b)(i) Considering public open spaces (e.g. streets, squares, parks, etc.) in the West Region of Singapore, where do you experience the soundscape to be the most chaotic and restless? Please drag the marker on the map to that location (zoom in/out if needed). Please do not choose a location that you have never visited or passed by on foot before.\n",
      "\n",
      "Q6)(b)(ii) Coordinates of your chosen location (please do not change these values; they will update when you drag the marker on the map):\n",
      "\n",
      "Q6)(b)(iii) Please explain and elaborate on your choice of location in Q6)(b)(i). For example, you can indicate the typical time and day of the week, etc. that you find the location to have a soundscape that is chaotic and restless.\n",
      "\n",
      "Q6)(b)(iv) How often do you visit your chosen location in Q6)(b)(i), or pass by it on foot?\n",
      "\n",
      "Q6)(b)(v) How many times have you visited your chosen location in Q6)(b)(i), or passed by it on foot? If you selected anything other than \"Less often than once a year\" for Q6)(b)(iv), then you should have visited your chosen location 10 or more times.\n",
      "\n",
      "Q6)(c)(i) Considering public open spaces (e.g. streets, squares, parks, etc.) in the West Region of Singapore, where do you experience the soundscape to be the most calm and tranquil? Please drag the marker on the map to that location (zoom in/out if needed). Please do not choose a location that you have never visited or passed by on foot before.\n",
      "\n",
      "Q6)(c)(ii) Coordinates of your chosen location (please do not change these values; they will update when you drag the marker on the map):\n",
      "\n",
      "Q6)(c)(iii) Please explain and elaborate on your choice of location in Q6)(c)(i). For example, you can indicate the typical time and day of the week, etc. that you find the location to have a soundscape that is calm and tranquil.\n",
      "\n",
      "Q6)(c)(iv) How often do you visit your chosen location in Q6)(c)(i), or pass by it on foot?\n",
      "\n",
      "Q6)(c)(v) How many times have you visited your chosen location in Q6)(c)(i), or passed by it on foot? If you selected anything other than \"Less often than once a year\" for Q6)(c)(iv), then you should have visited your chosen location 10 or more times.\n",
      "\n",
      "Q6)(d)(i) Considering public open spaces (e.g. streets, squares, parks, etc.) in the West Region of Singapore, where do you experience the soundscape to be the most lifeless and boring? Please drag the marker on the map to that location (zoom in/out if needed). Please do not choose a location that you have never visited or passed by on foot before.\n",
      "\n",
      "Q6)(d)(ii) Coordinates of your chosen location (please do not change these values; they will update when you drag the marker on the map):\n",
      "\n",
      "Q6)(d)(iii) Please explain and elaborate on your choice of location in Q6)(d)(i). For example, you can indicate the typical time and day of the week, etc. that you find the location to have a soundscape that is lifeless and boring.\n",
      "\n",
      "Q6)(d)(iv) How often do you visit your chosen location in Q6)(d)(i), or pass by it on foot?\n",
      "\n",
      "Q6)(d)(v) How many times have you visited your chosen location in Q6)(d)(i), or passed by it on foot? If you selected anything other than \"Less often than once a year\" for Q6)(d)(iv), then you should have visited your chosen location 10 or more times.\n",
      "\n"
     ]
    }
   ],
   "source": [
    "rnos = [1,2,3,4,5,6]\n",
    "rsts = ['Central Area (also known as the \"Central Business District (CBD)\")','East Region','Central Region','North Region','North-east Region','West Region']\n",
    "\n",
    "pnos = ['a','b','c','d']\n",
    "psts = ['full of life and exciting','chaotic and restless','calm and tranquil','lifeless and boring']\n",
    "\n",
    "qnos = ['i','ii','iii','iv','v']\n",
    "\n",
    "for rno, rst in zip(rnos,rsts): # Regions.\n",
    "    for pno, pst in zip(pnos,psts): # Perceptual attributes.\n",
    "        for idx, qno in enumerate(qnos): # Question numbers.\n",
    "            qsts = [f'Q{rno})({pno})({qno}) Considering public open spaces (e.g. streets, squares, parks, etc.) in the {rst} of Singapore, where do you experience the soundscape to be the most {pst}? Please drag the marker on the map to that location (zoom in/out if needed). Please do not choose a location that you have never visited or passed by on foot before.',\n",
    "            f'Q{rno})({pno})({qno}) Coordinates of your chosen location (please do not change these values; they will update when you drag the marker on the map):',\n",
    "            f'Q{rno})({pno})({qno}) Please explain and elaborate on your choice of location in Q{rno})({pno})({qnos[0]}). For example, you can indicate the typical time and day of the week, etc. that you find the location to have a soundscape that is {pst}.',\n",
    "            f'Q{rno})({pno})({qno}) How often do you visit your chosen location in Q{rno})({pno})({qnos[0]}), or pass by it on foot?',\n",
    "            f'Q{rno})({pno})({qno}) How many times have you visited your chosen location in Q{rno})({pno})({qnos[0]}), or passed by it on foot? If you selected anything other than \"Less often than once a year\" for Q{rno})({pno})({qnos[3]}), then you should have visited your chosen location 10 or more times.',\n",
    "            f'Q{rno})({pno})({qno}) On average, how long do you spend at your chosen location in Q{rno})({pno})({qnos[0]}) each time you visit it, or pass by it on foot? Please enter a time in minutes (1 hour = 60 minutes).']\n",
    "            print(qsts[idx],end='\\n\\n')"
   ]
  },
  {
   "cell_type": "code",
   "execution_count": null,
   "metadata": {},
   "outputs": [],
   "source": []
  }
 ],
 "metadata": {
  "kernelspec": {
   "display_name": "Python 3",
   "language": "python",
   "name": "python3"
  },
  "language_info": {
   "codemirror_mode": {
    "name": "ipython",
    "version": 3
   },
   "file_extension": ".py",
   "mimetype": "text/x-python",
   "name": "python",
   "nbconvert_exporter": "python",
   "pygments_lexer": "ipython3",
   "version": "3.9.5"
  }
 },
 "nbformat": 4,
 "nbformat_minor": 4
}
