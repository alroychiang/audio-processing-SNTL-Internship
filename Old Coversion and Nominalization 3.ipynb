{
 "cells": [
  {
   "cell_type": "markdown",
   "id": "4af5c462-9e2b-4954-8179-8e6ac4a39470",
   "metadata": {},
   "source": [
    "# Section 1 <a name='section1'></a>"
   ]
  },
  {
   "cell_type": "code",
   "execution_count": 10,
   "id": "aaa0a27f-7650-4098-b44a-b34b5d84fd2d",
   "metadata": {},
   "outputs": [],
   "source": [
    "import numpy as np\n",
    "import soundfile as sf\n",
    "import pydub\n",
    "import glob\n",
    "import os, shutil\n",
    "from pprint import pprint"
   ]
  },
  {
   "cell_type": "code",
   "execution_count": 9,
   "id": "1c61f32d-2b2d-4f94-b8e9-32d766ae74b4",
   "metadata": {},
   "outputs": [
    {
     "data": {
      "text/plain": [
       "'C:\\\\Users\\\\DSPLAB\\\\Desktop\\\\Alroy python code'"
      ]
     },
     "execution_count": 9,
     "metadata": {},
     "output_type": "execute_result"
    }
   ],
   "source": [
    "os.getcwd()"
   ]
  },
  {
   "cell_type": "markdown",
   "id": "7cb2464d-9381-4563-b5f7-29899fc1ad2c",
   "metadata": {},
   "source": [
    "Today I learned that $e=mc^2$. Also $e^{i\\frac{\\pi}{2}}=i$"
   ]
  },
  {
   "cell_type": "markdown",
   "id": "59e40d9e-1a6c-44b3-8c4b-e26261a8258a",
   "metadata": {},
   "source": [
    "os.makedirs('hello\\\\kjbbk')"
   ]
  },
  {
   "cell_type": "markdown",
   "id": "d1092cba-3d54-40bc-b4b8-96602410570b",
   "metadata": {},
   "source": [
    "os.makedirs()\n",
    "shutil.move()"
   ]
  },
  {
   "cell_type": "markdown",
   "id": "fe27867b-7fe4-4045-a7df-cc3af214e967",
   "metadata": {},
   "source": [
    "os.getcwd()"
   ]
  },
  {
   "cell_type": "code",
   "execution_count": 4,
   "id": "de7db890-cb03-4695-8e6e-a7498e188a0f",
   "metadata": {
    "scrolled": true,
    "tags": []
   },
   "outputs": [
    {
     "name": "stdout",
     "output_type": "stream",
     "text": [
      "[]\n"
     ]
    }
   ],
   "source": [
    "flacfiles = glob.glob(\"*.wav\")\n",
    "pprint(flacfiles)"
   ]
  },
  {
   "cell_type": "code",
   "execution_count": null,
   "id": "64d59fc3-3884-4587-8f23-deb11edf33f7",
   "metadata": {},
   "outputs": [],
   "source": [
    "len(flacfiles)"
   ]
  },
  {
   "cell_type": "code",
   "execution_count": null,
   "id": "28ac46c3-3a21-4360-aef4-71159af0e0af",
   "metadata": {},
   "outputs": [],
   "source": [
    "def nominalize(x):\n",
    "    a=-1 #setting the lower limit and upper limit of the nominalization formula respectively\n",
    "    b=1\n",
    "    x_min = np.min(x) #finding the minimum limit value\n",
    "    x_max = np.max(x) #finding the maximum limit value\n",
    "    y=(x-x_min)*((b-a)/(x_max-x_min))+a #updating the value to array x\n",
    "    return y"
   ]
  },
  {
   "cell_type": "code",
   "execution_count": null,
   "id": "c1f4b32e-e050-4a4c-b7d5-3410bc562676",
   "metadata": {
    "scrolled": true,
    "tags": []
   },
   "outputs": [],
   "source": [
    "for i in flacfiles: #just to visualize arrays of each audio file\n",
    "    x,sr=sf.read(i) #i take each individual file and read it as an array and assign it to an 'x'\n",
    "    pprint(x)"
   ]
  },
  {
   "cell_type": "markdown",
   "id": "7f3ea6b9-e605-4d3f-a1c2-e8cb21aebc77",
   "metadata": {},
   "source": [
    "Hi this will let you go back to <a href=\"#section1\"> Section 1</a>.\n",
    "<font color='red'> This is red text. </font>\n",
    "\n",
    "    for eachfile\n",
    "    i = 'myname.blah.flac'\n",
    "    j = i.split('.')\n",
    "    j[-1] = 'wav'\n",
    "    k = '.'.join(j) #make this in a for-loop and insert these individual file into write function"
   ]
  },
  {
   "cell_type": "markdown",
   "id": "bc770776-ccdc-4f9e-9bdd-a199f0fe439e",
   "metadata": {
    "tags": []
   },
   "source": [
    "for filename in flacfiles:\n",
    "    editname = '.'.join(filename.split('.')[])\n",
    "    x,sr=sf.read(filename)\n",
    "    z=nominalize(x) #activate norminalize function for each indivual 'x', take turns\n",
    "    #pprint(z) #z is now similar to flacfiles, a list of arrays\n",
    "    sf.write(editname,z,sr)"
   ]
  },
  {
   "cell_type": "code",
   "execution_count": null,
   "id": "a4b30193-f74b-4a24-8a70-81679dc734ba",
   "metadata": {
    "scrolled": true,
    "tags": []
   },
   "outputs": [],
   "source": [
    "for filename in flacfiles:\n",
    "    splitname = filename.split('.')\n",
    "    splitname[-1] = '.wav' #splitname[-1] identifies the RHS-most value, # = 'wav' assigns 'wav' to the RHS-most value, [-1] doesnt remove the RHS-most term\n",
    "    editname = ''.join(splitname)#cannot use append because filename is a string, the '.' is also possible\n",
    "    x,sr=sf.read(filename)\n",
    "    z=nominalize(x) #activate norminalize function for each indivual 'x', take turns\n",
    "    #pprint(z) #z is now similar to flacfiles, a list of arrays\n",
    "    sf.write(editname,z,sr)"
   ]
  }
 ],
 "metadata": {
  "kernelspec": {
   "display_name": "Python 3",
   "language": "python",
   "name": "python3"
  },
  "language_info": {
   "codemirror_mode": {
    "name": "ipython",
    "version": 3
   },
   "file_extension": ".py",
   "mimetype": "text/x-python",
   "name": "python",
   "nbconvert_exporter": "python",
   "pygments_lexer": "ipython3",
   "version": "3.9.5"
  }
 },
 "nbformat": 4,
 "nbformat_minor": 5
}
