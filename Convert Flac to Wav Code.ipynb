{
 "cells": [
  {
   "cell_type": "code",
   "execution_count": 2,
   "id": "7d2aa875-a202-405c-90c9-c35a3683528f",
   "metadata": {},
   "outputs": [],
   "source": [
    "import numpy as np\n",
    "import soundfile as sf\n",
    "import pydub\n",
    "import glob\n",
    "import os, shutil\n",
    "from pprint import pprint\n",
    "import pandas as pd"
   ]
  },
  {
   "cell_type": "code",
   "execution_count": 3,
   "id": "4561da26-0003-49e4-92d0-90ec3d1f4b16",
   "metadata": {},
   "outputs": [],
   "source": [
    "os.chdir(r'C:\\Users\\DSPLAB\\Desktop\\Alroy Data\\not normalized wav files')"
   ]
  },
  {
   "cell_type": "code",
   "execution_count": 4,
   "id": "700e2771-a42f-4e1d-a97a-55a641cb2902",
   "metadata": {},
   "outputs": [
    {
     "data": {
      "text/plain": [
       "'C:\\\\Users\\\\DSPLAB\\\\Desktop\\\\Alroy Data\\\\not normalized wav files'"
      ]
     },
     "execution_count": 4,
     "metadata": {},
     "output_type": "execute_result"
    }
   ],
   "source": [
    "os.getcwd()"
   ]
  },
  {
   "cell_type": "code",
   "execution_count": 39,
   "id": "92ac2d06-0ae3-4d2f-95b9-328e38e0764a",
   "metadata": {},
   "outputs": [],
   "source": [
    "directory =r'C:\\Users\\DSPLAB\\Desktop\\Alroy Data\\not normalized wav files'"
   ]
  },
  {
   "cell_type": "code",
   "execution_count": null,
   "id": "2f2630e9-eaae-499d-a7ab-e6ca3d779834",
   "metadata": {},
   "outputs": [],
   "source": [
    "def convertwav(directory): #rmbr to put r'' in your directory #this function to covert all .flac files in your subfolders into .wav files in your subfolders\n",
    "    os.chdir(directory)\n",
    "    #datefolder=os.listdir(directory)\n",
    "    #print(datefolder)\n",
    "    flacfolder = glob.glob('**/*.flac',recursive=True) #extracting all files in subfolders\n",
    "    for eachfile in flacfolder:\n",
    "        splitname = eachfile.split('.')\n",
    "        splitname[-1] = '.wav' #assign '.wav' as the RHS most term, actually forcefully change the 2nd item in the list into '.wav'\n",
    "        editname = ''.join(splitname) #combines 1st adn 2nd item into a single item in the list\n",
    "        x,sr=sf.read(eachfile)\n",
    "        sf.write(editname,x,sr)\n",
    "        os.remove(eachfile)"
   ]
  },
  {
   "cell_type": "code",
   "execution_count": 1,
   "id": "0d34b81d-dd91-45e2-8af0-a6ac38fb2a04",
   "metadata": {},
   "outputs": [
    {
     "name": "stdout",
     "output_type": "stream",
     "text": [
      "['helloSnail', '.newglue']\n"
     ]
    }
   ],
   "source": [
    "string='helloSnail.googoo'\n",
    "separate= string.split('.')\n",
    "separate[-1] = '.newglue' #assigning new term to the end of newstring\n",
    "print(separate)"
   ]
  },
  {
   "cell_type": "code",
   "execution_count": 2,
   "id": "e23e2933-de7d-402d-bc18-bae0f6b634ab",
   "metadata": {},
   "outputs": [
    {
     "name": "stdout",
     "output_type": "stream",
     "text": [
      "helloSnailhi.newglue\n"
     ]
    }
   ],
   "source": [
    "editname='hi'.join(separate)\n",
    "print(editname)"
   ]
  },
  {
   "cell_type": "code",
   "execution_count": null,
   "id": "ef44d9e2-85fa-47c9-ad22-b14cc62fc178",
   "metadata": {},
   "outputs": [],
   "source": [
    "convertwav(r'C:\\Users\\DSPLAB\\Desktop\\Alroy Data\\not normalized wav files')"
   ]
  }
 ],
 "metadata": {
  "kernelspec": {
   "display_name": "Python 3",
   "language": "python",
   "name": "python3"
  },
  "language_info": {
   "codemirror_mode": {
    "name": "ipython",
    "version": 3
   },
   "file_extension": ".py",
   "mimetype": "text/x-python",
   "name": "python",
   "nbconvert_exporter": "python",
   "pygments_lexer": "ipython3",
   "version": "3.9.5"
  }
 },
 "nbformat": 4,
 "nbformat_minor": 5
}
